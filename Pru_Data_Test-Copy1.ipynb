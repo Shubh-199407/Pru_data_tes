{
 "cells": [
  {
   "cell_type": "markdown",
   "metadata": {
    "run_control": {
     "marked": true
    }
   },
   "source": [
    "# Pru Wealth Data Test\n",
    "\n",
    "Below we will explore a mock database of customers, policies and funds that are similar to the Pru Wealth data. The first section of this notebook will test your SQL skills, the second section will test your Python skills and visualisation skills.\n",
    "\n",
    "The database file is called Prudential_Data.db\n",
    "\n",
    "The three tables included in this database are:\n",
    "* Customer_Table\n",
    "* Policy_Table\n",
    "* Fund_Table\n",
    "\n",
    "You will need to have the following packages installed in your Python environment:\n",
    "* numpy\n",
    "* pandas\n",
    "* sqlite3\n",
    "\n",
    "For visualization use any package of your choice (e.g., matplotlib, seaborn, plotly).\n",
    "\n",
    "Please complete and return the test before the deadline by emailing your copy of this notebook to:  If you do not know the answer to a question feel free to use Google and Stack Overflow. This is to give you the option to teach yourself a concept from the internet to address a question which you do not know the answer to, please refrain from skipping questions. The test is meant to be completed by you only.\n",
    "\n",
    "Good luck and have fun!"
   ]
  },
  {
   "cell_type": "code",
   "execution_count": 1,
   "metadata": {
    "run_control": {
     "marked": true
    }
   },
   "outputs": [],
   "source": [
    "import numpy as np\n",
    "import pandas as pd\n",
    "import sqlite3"
   ]
  },
  {
   "cell_type": "code",
   "execution_count": 2,
   "metadata": {},
   "outputs": [],
   "source": [
    "pd.options.display.max_rows = 100\n",
    "pd.options.display.max_columns = 100"
   ]
  },
  {
   "cell_type": "markdown",
   "metadata": {
    "run_control": {
     "marked": true
    }
   },
   "source": [
    "# SQL test\n",
    "\n",
    "IMPORANT: Please make sure all questions in this section are solved using SQL by only editing the content of the variable *sqlite_query*. Please do not edit the below cell:"
   ]
  },
  {
   "cell_type": "code",
   "execution_count": 3,
   "metadata": {
    "run_control": {
     "marked": true
    }
   },
   "outputs": [],
   "source": [
    "# Establish DB connection\n",
    "conn = sqlite3.connect('Prudential_Data.db')"
   ]
  },
  {
   "cell_type": "markdown",
   "metadata": {},
   "source": [
    "Below is an example of how to query the SQLlite databse from this Jupyter notebook. Please note that SQLlite might have a slightly different syntax from the SQL you normally use. Please do not edit the below cell:"
   ]
  },
  {
   "cell_type": "code",
   "execution_count": 4,
   "metadata": {},
   "outputs": [
    {
     "data": {
      "text/html": [
       "<div>\n",
       "<style scoped>\n",
       "    .dataframe tbody tr th:only-of-type {\n",
       "        vertical-align: middle;\n",
       "    }\n",
       "\n",
       "    .dataframe tbody tr th {\n",
       "        vertical-align: top;\n",
       "    }\n",
       "\n",
       "    .dataframe thead th {\n",
       "        text-align: right;\n",
       "    }\n",
       "</style>\n",
       "<table border=\"1\" class=\"dataframe\">\n",
       "  <thead>\n",
       "    <tr style=\"text-align: right;\">\n",
       "      <th></th>\n",
       "      <th>COUNT(*)</th>\n",
       "    </tr>\n",
       "  </thead>\n",
       "  <tbody>\n",
       "    <tr>\n",
       "      <th>0</th>\n",
       "      <td>1635</td>\n",
       "    </tr>\n",
       "  </tbody>\n",
       "</table>\n",
       "</div>"
      ],
      "text/plain": [
       "   COUNT(*)\n",
       "0      1635"
      ]
     },
     "execution_count": 4,
     "metadata": {},
     "output_type": "execute_result"
    }
   ],
   "source": [
    "sqlite_query = \"\"\"\n",
    "SELECT COUNT(*) \n",
    "from policy_table \n",
    "\"\"\"\n",
    "\n",
    "pd.read_sql(sqlite_query, conn)"
   ]
  },
  {
   "cell_type": "markdown",
   "metadata": {
    "run_control": {
     "marked": true
    }
   },
   "source": [
    "The first table \"Customer_Table\" contains personal information about the customers. Please do not edit the below cell:"
   ]
  },
  {
   "cell_type": "code",
   "execution_count": 5,
   "metadata": {
    "run_control": {
     "marked": true
    }
   },
   "outputs": [
    {
     "data": {
      "text/html": [
       "<div>\n",
       "<style scoped>\n",
       "    .dataframe tbody tr th:only-of-type {\n",
       "        vertical-align: middle;\n",
       "    }\n",
       "\n",
       "    .dataframe tbody tr th {\n",
       "        vertical-align: top;\n",
       "    }\n",
       "\n",
       "    .dataframe thead th {\n",
       "        text-align: right;\n",
       "    }\n",
       "</style>\n",
       "<table border=\"1\" class=\"dataframe\">\n",
       "  <thead>\n",
       "    <tr style=\"text-align: right;\">\n",
       "      <th></th>\n",
       "      <th>index</th>\n",
       "      <th>Customer ID</th>\n",
       "      <th>Email</th>\n",
       "      <th>Gender</th>\n",
       "      <th>Age</th>\n",
       "      <th>Postcode</th>\n",
       "    </tr>\n",
       "  </thead>\n",
       "  <tbody>\n",
       "    <tr>\n",
       "      <th>0</th>\n",
       "      <td>0</td>\n",
       "      <td>CO183683</td>\n",
       "      <td>NLUPPITT14@PARALLELS.COM</td>\n",
       "      <td>Male</td>\n",
       "      <td>90</td>\n",
       "      <td>None</td>\n",
       "    </tr>\n",
       "    <tr>\n",
       "      <th>1</th>\n",
       "      <td>1</td>\n",
       "      <td>CO314757</td>\n",
       "      <td>None</td>\n",
       "      <td>Female</td>\n",
       "      <td>90</td>\n",
       "      <td>None</td>\n",
       "    </tr>\n",
       "    <tr>\n",
       "      <th>2</th>\n",
       "      <td>2</td>\n",
       "      <td>CO720602</td>\n",
       "      <td>None</td>\n",
       "      <td>Female</td>\n",
       "      <td>90</td>\n",
       "      <td>None</td>\n",
       "    </tr>\n",
       "    <tr>\n",
       "      <th>3</th>\n",
       "      <td>3</td>\n",
       "      <td>CO34804</td>\n",
       "      <td>None</td>\n",
       "      <td>Female</td>\n",
       "      <td>90</td>\n",
       "      <td>1495-701</td>\n",
       "    </tr>\n",
       "    <tr>\n",
       "      <th>4</th>\n",
       "      <td>4</td>\n",
       "      <td>CO474411</td>\n",
       "      <td>None</td>\n",
       "      <td>Male</td>\n",
       "      <td>90</td>\n",
       "      <td>301288</td>\n",
       "    </tr>\n",
       "  </tbody>\n",
       "</table>\n",
       "</div>"
      ],
      "text/plain": [
       "   index Customer ID                     Email  Gender  Age  Postcode\n",
       "0      0    CO183683  NLUPPITT14@PARALLELS.COM    Male   90      None\n",
       "1      1    CO314757                      None  Female   90      None\n",
       "2      2    CO720602                      None  Female   90      None\n",
       "3      3     CO34804                      None  Female   90  1495-701\n",
       "4      4    CO474411                      None    Male   90    301288"
      ]
     },
     "execution_count": 5,
     "metadata": {},
     "output_type": "execute_result"
    }
   ],
   "source": [
    "sqlite_query = \"\"\"\n",
    "SELECT * \n",
    "from Customer_Table \n",
    "limit 5\n",
    "\"\"\"\n",
    "\n",
    "pd.read_sql(sqlite_query, conn)"
   ]
  },
  {
   "cell_type": "markdown",
   "metadata": {},
   "source": [
    "The second table \"Policy_Table\" contains data relating to customer policies. The policy value is the current value of the policy. Please do not edit the below cell:"
   ]
  },
  {
   "cell_type": "code",
   "execution_count": 6,
   "metadata": {},
   "outputs": [
    {
     "data": {
      "text/html": [
       "<div>\n",
       "<style scoped>\n",
       "    .dataframe tbody tr th:only-of-type {\n",
       "        vertical-align: middle;\n",
       "    }\n",
       "\n",
       "    .dataframe tbody tr th {\n",
       "        vertical-align: top;\n",
       "    }\n",
       "\n",
       "    .dataframe thead th {\n",
       "        text-align: right;\n",
       "    }\n",
       "</style>\n",
       "<table border=\"1\" class=\"dataframe\">\n",
       "  <thead>\n",
       "    <tr style=\"text-align: right;\">\n",
       "      <th></th>\n",
       "      <th>index</th>\n",
       "      <th>Policy Number</th>\n",
       "      <th>Customer ID</th>\n",
       "      <th>Product Category</th>\n",
       "      <th>Product Name</th>\n",
       "      <th>Policy Value</th>\n",
       "      <th>Policy Start Date</th>\n",
       "    </tr>\n",
       "  </thead>\n",
       "  <tbody>\n",
       "    <tr>\n",
       "      <th>0</th>\n",
       "      <td>0</td>\n",
       "      <td>RET100072</td>\n",
       "      <td>CO276506</td>\n",
       "      <td>RETIREMENT</td>\n",
       "      <td>RETIREMENT ACCOUNT</td>\n",
       "      <td>270033.0</td>\n",
       "      <td>2016-01-02 00:00:00</td>\n",
       "    </tr>\n",
       "    <tr>\n",
       "      <th>1</th>\n",
       "      <td>1</td>\n",
       "      <td>RET100931</td>\n",
       "      <td>CO831289</td>\n",
       "      <td>RETIREMENT</td>\n",
       "      <td>RETIREMENT ACCOUNT</td>\n",
       "      <td>26394.0</td>\n",
       "      <td>2016-01-04 00:00:00</td>\n",
       "    </tr>\n",
       "    <tr>\n",
       "      <th>2</th>\n",
       "      <td>2</td>\n",
       "      <td>RET100682</td>\n",
       "      <td>CO784249</td>\n",
       "      <td>RETIREMENT</td>\n",
       "      <td>RETIREMENT ACCOUNT</td>\n",
       "      <td>773567.0</td>\n",
       "      <td>2016-01-04 00:00:00</td>\n",
       "    </tr>\n",
       "    <tr>\n",
       "      <th>3</th>\n",
       "      <td>3</td>\n",
       "      <td>RET100447</td>\n",
       "      <td>CO295533</td>\n",
       "      <td>RETIREMENT</td>\n",
       "      <td>RETIREMENT ACCOUNT</td>\n",
       "      <td>35512.0</td>\n",
       "      <td>2016-01-07 00:00:00</td>\n",
       "    </tr>\n",
       "    <tr>\n",
       "      <th>4</th>\n",
       "      <td>4</td>\n",
       "      <td>RET100390</td>\n",
       "      <td>CO901735</td>\n",
       "      <td>RETIREMENT</td>\n",
       "      <td>RETIREMENT ACCOUNT</td>\n",
       "      <td>767580.0</td>\n",
       "      <td>2016-01-08 00:00:00</td>\n",
       "    </tr>\n",
       "  </tbody>\n",
       "</table>\n",
       "</div>"
      ],
      "text/plain": [
       "   index Policy Number Customer ID Product Category        Product Name  \\\n",
       "0      0     RET100072    CO276506       RETIREMENT  RETIREMENT ACCOUNT   \n",
       "1      1     RET100931    CO831289       RETIREMENT  RETIREMENT ACCOUNT   \n",
       "2      2     RET100682    CO784249       RETIREMENT  RETIREMENT ACCOUNT   \n",
       "3      3     RET100447    CO295533       RETIREMENT  RETIREMENT ACCOUNT   \n",
       "4      4     RET100390    CO901735       RETIREMENT  RETIREMENT ACCOUNT   \n",
       "\n",
       "   Policy Value    Policy Start Date  \n",
       "0      270033.0  2016-01-02 00:00:00  \n",
       "1       26394.0  2016-01-04 00:00:00  \n",
       "2      773567.0  2016-01-04 00:00:00  \n",
       "3       35512.0  2016-01-07 00:00:00  \n",
       "4      767580.0  2016-01-08 00:00:00  "
      ]
     },
     "execution_count": 6,
     "metadata": {},
     "output_type": "execute_result"
    }
   ],
   "source": [
    "sqlite_query = \"\"\"\n",
    "SELECT * \n",
    "from Policy_Table \n",
    "limit 5\n",
    "\"\"\"\n",
    "\n",
    "pd.read_sql(sqlite_query, conn)"
   ]
  },
  {
   "cell_type": "markdown",
   "metadata": {},
   "source": [
    "The final table \"Fund_Table\" contains historic data on the Policy Value (Policy_Value_Snapshot). The Policy_Value_Snapshot represents the value of the policy and the Date column is the date at which that value was recorded. The value may have changed overtime due to changes in the fund price or quanity of units the policy was invested in. Please do not edit the below cell:"
   ]
  },
  {
   "cell_type": "code",
   "execution_count": 7,
   "metadata": {},
   "outputs": [
    {
     "data": {
      "text/html": [
       "<div>\n",
       "<style scoped>\n",
       "    .dataframe tbody tr th:only-of-type {\n",
       "        vertical-align: middle;\n",
       "    }\n",
       "\n",
       "    .dataframe tbody tr th {\n",
       "        vertical-align: top;\n",
       "    }\n",
       "\n",
       "    .dataframe thead th {\n",
       "        text-align: right;\n",
       "    }\n",
       "</style>\n",
       "<table border=\"1\" class=\"dataframe\">\n",
       "  <thead>\n",
       "    <tr style=\"text-align: right;\">\n",
       "      <th></th>\n",
       "      <th>index</th>\n",
       "      <th>Policy Number</th>\n",
       "      <th>Customer ID</th>\n",
       "      <th>Date</th>\n",
       "      <th>Product Category</th>\n",
       "      <th>Product Name</th>\n",
       "      <th>Policy_Value_Snapshot</th>\n",
       "    </tr>\n",
       "  </thead>\n",
       "  <tbody>\n",
       "    <tr>\n",
       "      <th>0</th>\n",
       "      <td>54019</td>\n",
       "      <td>RET100072</td>\n",
       "      <td>CO276506</td>\n",
       "      <td>2016-01-31 00:00:00</td>\n",
       "      <td>RETIREMENT</td>\n",
       "      <td>RETIREMENT ACCOUNT</td>\n",
       "      <td>31445.432432</td>\n",
       "    </tr>\n",
       "    <tr>\n",
       "      <th>1</th>\n",
       "      <td>54020</td>\n",
       "      <td>RET100072</td>\n",
       "      <td>CO276506</td>\n",
       "      <td>2016-02-29 00:00:00</td>\n",
       "      <td>RETIREMENT</td>\n",
       "      <td>RETIREMENT ACCOUNT</td>\n",
       "      <td>38072.864865</td>\n",
       "    </tr>\n",
       "    <tr>\n",
       "      <th>2</th>\n",
       "      <td>54021</td>\n",
       "      <td>RET100072</td>\n",
       "      <td>CO276506</td>\n",
       "      <td>2016-03-31 00:00:00</td>\n",
       "      <td>RETIREMENT</td>\n",
       "      <td>RETIREMENT ACCOUNT</td>\n",
       "      <td>44700.297297</td>\n",
       "    </tr>\n",
       "    <tr>\n",
       "      <th>3</th>\n",
       "      <td>54022</td>\n",
       "      <td>RET100072</td>\n",
       "      <td>CO276506</td>\n",
       "      <td>2016-04-30 00:00:00</td>\n",
       "      <td>RETIREMENT</td>\n",
       "      <td>RETIREMENT ACCOUNT</td>\n",
       "      <td>51327.729730</td>\n",
       "    </tr>\n",
       "    <tr>\n",
       "      <th>4</th>\n",
       "      <td>54023</td>\n",
       "      <td>RET100072</td>\n",
       "      <td>CO276506</td>\n",
       "      <td>2016-05-31 00:00:00</td>\n",
       "      <td>RETIREMENT</td>\n",
       "      <td>RETIREMENT ACCOUNT</td>\n",
       "      <td>57955.162162</td>\n",
       "    </tr>\n",
       "    <tr>\n",
       "      <th>5</th>\n",
       "      <td>54024</td>\n",
       "      <td>RET100072</td>\n",
       "      <td>CO276506</td>\n",
       "      <td>2016-06-30 00:00:00</td>\n",
       "      <td>RETIREMENT</td>\n",
       "      <td>RETIREMENT ACCOUNT</td>\n",
       "      <td>64582.594595</td>\n",
       "    </tr>\n",
       "    <tr>\n",
       "      <th>6</th>\n",
       "      <td>54025</td>\n",
       "      <td>RET100072</td>\n",
       "      <td>CO276506</td>\n",
       "      <td>2016-07-31 00:00:00</td>\n",
       "      <td>RETIREMENT</td>\n",
       "      <td>RETIREMENT ACCOUNT</td>\n",
       "      <td>71210.027027</td>\n",
       "    </tr>\n",
       "    <tr>\n",
       "      <th>7</th>\n",
       "      <td>54026</td>\n",
       "      <td>RET100072</td>\n",
       "      <td>CO276506</td>\n",
       "      <td>2016-08-31 00:00:00</td>\n",
       "      <td>RETIREMENT</td>\n",
       "      <td>RETIREMENT ACCOUNT</td>\n",
       "      <td>77837.459459</td>\n",
       "    </tr>\n",
       "    <tr>\n",
       "      <th>8</th>\n",
       "      <td>54027</td>\n",
       "      <td>RET100072</td>\n",
       "      <td>CO276506</td>\n",
       "      <td>2016-09-30 00:00:00</td>\n",
       "      <td>RETIREMENT</td>\n",
       "      <td>RETIREMENT ACCOUNT</td>\n",
       "      <td>84464.891892</td>\n",
       "    </tr>\n",
       "    <tr>\n",
       "      <th>9</th>\n",
       "      <td>54028</td>\n",
       "      <td>RET100072</td>\n",
       "      <td>CO276506</td>\n",
       "      <td>2016-10-31 00:00:00</td>\n",
       "      <td>RETIREMENT</td>\n",
       "      <td>RETIREMENT ACCOUNT</td>\n",
       "      <td>91092.324324</td>\n",
       "    </tr>\n",
       "    <tr>\n",
       "      <th>10</th>\n",
       "      <td>54029</td>\n",
       "      <td>RET100072</td>\n",
       "      <td>CO276506</td>\n",
       "      <td>2016-11-30 00:00:00</td>\n",
       "      <td>RETIREMENT</td>\n",
       "      <td>RETIREMENT ACCOUNT</td>\n",
       "      <td>97719.756757</td>\n",
       "    </tr>\n",
       "    <tr>\n",
       "      <th>11</th>\n",
       "      <td>54030</td>\n",
       "      <td>RET100072</td>\n",
       "      <td>CO276506</td>\n",
       "      <td>2016-12-31 00:00:00</td>\n",
       "      <td>RETIREMENT</td>\n",
       "      <td>RETIREMENT ACCOUNT</td>\n",
       "      <td>104347.189189</td>\n",
       "    </tr>\n",
       "    <tr>\n",
       "      <th>12</th>\n",
       "      <td>54031</td>\n",
       "      <td>RET100072</td>\n",
       "      <td>CO276506</td>\n",
       "      <td>2017-01-31 00:00:00</td>\n",
       "      <td>RETIREMENT</td>\n",
       "      <td>RETIREMENT ACCOUNT</td>\n",
       "      <td>110974.621622</td>\n",
       "    </tr>\n",
       "    <tr>\n",
       "      <th>13</th>\n",
       "      <td>54032</td>\n",
       "      <td>RET100072</td>\n",
       "      <td>CO276506</td>\n",
       "      <td>2017-02-28 00:00:00</td>\n",
       "      <td>RETIREMENT</td>\n",
       "      <td>RETIREMENT ACCOUNT</td>\n",
       "      <td>117602.054054</td>\n",
       "    </tr>\n",
       "    <tr>\n",
       "      <th>14</th>\n",
       "      <td>54033</td>\n",
       "      <td>RET100072</td>\n",
       "      <td>CO276506</td>\n",
       "      <td>2017-03-31 00:00:00</td>\n",
       "      <td>RETIREMENT</td>\n",
       "      <td>RETIREMENT ACCOUNT</td>\n",
       "      <td>124229.486486</td>\n",
       "    </tr>\n",
       "    <tr>\n",
       "      <th>15</th>\n",
       "      <td>54034</td>\n",
       "      <td>RET100072</td>\n",
       "      <td>CO276506</td>\n",
       "      <td>2017-04-30 00:00:00</td>\n",
       "      <td>RETIREMENT</td>\n",
       "      <td>RETIREMENT ACCOUNT</td>\n",
       "      <td>130856.918919</td>\n",
       "    </tr>\n",
       "    <tr>\n",
       "      <th>16</th>\n",
       "      <td>54035</td>\n",
       "      <td>RET100072</td>\n",
       "      <td>CO276506</td>\n",
       "      <td>2017-05-31 00:00:00</td>\n",
       "      <td>RETIREMENT</td>\n",
       "      <td>RETIREMENT ACCOUNT</td>\n",
       "      <td>137484.351351</td>\n",
       "    </tr>\n",
       "    <tr>\n",
       "      <th>17</th>\n",
       "      <td>54036</td>\n",
       "      <td>RET100072</td>\n",
       "      <td>CO276506</td>\n",
       "      <td>2017-06-30 00:00:00</td>\n",
       "      <td>RETIREMENT</td>\n",
       "      <td>RETIREMENT ACCOUNT</td>\n",
       "      <td>144111.783784</td>\n",
       "    </tr>\n",
       "    <tr>\n",
       "      <th>18</th>\n",
       "      <td>54037</td>\n",
       "      <td>RET100072</td>\n",
       "      <td>CO276506</td>\n",
       "      <td>2017-07-31 00:00:00</td>\n",
       "      <td>RETIREMENT</td>\n",
       "      <td>RETIREMENT ACCOUNT</td>\n",
       "      <td>150739.216216</td>\n",
       "    </tr>\n",
       "    <tr>\n",
       "      <th>19</th>\n",
       "      <td>54038</td>\n",
       "      <td>RET100072</td>\n",
       "      <td>CO276506</td>\n",
       "      <td>2017-08-31 00:00:00</td>\n",
       "      <td>RETIREMENT</td>\n",
       "      <td>RETIREMENT ACCOUNT</td>\n",
       "      <td>157366.648649</td>\n",
       "    </tr>\n",
       "    <tr>\n",
       "      <th>20</th>\n",
       "      <td>54039</td>\n",
       "      <td>RET100072</td>\n",
       "      <td>CO276506</td>\n",
       "      <td>2017-09-30 00:00:00</td>\n",
       "      <td>RETIREMENT</td>\n",
       "      <td>RETIREMENT ACCOUNT</td>\n",
       "      <td>163994.081081</td>\n",
       "    </tr>\n",
       "    <tr>\n",
       "      <th>21</th>\n",
       "      <td>54040</td>\n",
       "      <td>RET100072</td>\n",
       "      <td>CO276506</td>\n",
       "      <td>2017-10-31 00:00:00</td>\n",
       "      <td>RETIREMENT</td>\n",
       "      <td>RETIREMENT ACCOUNT</td>\n",
       "      <td>170621.513514</td>\n",
       "    </tr>\n",
       "    <tr>\n",
       "      <th>22</th>\n",
       "      <td>54041</td>\n",
       "      <td>RET100072</td>\n",
       "      <td>CO276506</td>\n",
       "      <td>2017-11-30 00:00:00</td>\n",
       "      <td>RETIREMENT</td>\n",
       "      <td>RETIREMENT ACCOUNT</td>\n",
       "      <td>177248.945946</td>\n",
       "    </tr>\n",
       "    <tr>\n",
       "      <th>23</th>\n",
       "      <td>54042</td>\n",
       "      <td>RET100072</td>\n",
       "      <td>CO276506</td>\n",
       "      <td>2017-12-31 00:00:00</td>\n",
       "      <td>RETIREMENT</td>\n",
       "      <td>RETIREMENT ACCOUNT</td>\n",
       "      <td>183876.378378</td>\n",
       "    </tr>\n",
       "    <tr>\n",
       "      <th>24</th>\n",
       "      <td>54043</td>\n",
       "      <td>RET100072</td>\n",
       "      <td>CO276506</td>\n",
       "      <td>2018-01-31 00:00:00</td>\n",
       "      <td>RETIREMENT</td>\n",
       "      <td>RETIREMENT ACCOUNT</td>\n",
       "      <td>190503.810811</td>\n",
       "    </tr>\n",
       "    <tr>\n",
       "      <th>25</th>\n",
       "      <td>54044</td>\n",
       "      <td>RET100072</td>\n",
       "      <td>CO276506</td>\n",
       "      <td>2018-02-28 00:00:00</td>\n",
       "      <td>RETIREMENT</td>\n",
       "      <td>RETIREMENT ACCOUNT</td>\n",
       "      <td>197131.243243</td>\n",
       "    </tr>\n",
       "    <tr>\n",
       "      <th>26</th>\n",
       "      <td>54045</td>\n",
       "      <td>RET100072</td>\n",
       "      <td>CO276506</td>\n",
       "      <td>2018-03-31 00:00:00</td>\n",
       "      <td>RETIREMENT</td>\n",
       "      <td>RETIREMENT ACCOUNT</td>\n",
       "      <td>203758.675676</td>\n",
       "    </tr>\n",
       "    <tr>\n",
       "      <th>27</th>\n",
       "      <td>54046</td>\n",
       "      <td>RET100072</td>\n",
       "      <td>CO276506</td>\n",
       "      <td>2018-04-30 00:00:00</td>\n",
       "      <td>RETIREMENT</td>\n",
       "      <td>RETIREMENT ACCOUNT</td>\n",
       "      <td>210386.108108</td>\n",
       "    </tr>\n",
       "    <tr>\n",
       "      <th>28</th>\n",
       "      <td>54047</td>\n",
       "      <td>RET100072</td>\n",
       "      <td>CO276506</td>\n",
       "      <td>2018-05-31 00:00:00</td>\n",
       "      <td>RETIREMENT</td>\n",
       "      <td>RETIREMENT ACCOUNT</td>\n",
       "      <td>217013.540541</td>\n",
       "    </tr>\n",
       "    <tr>\n",
       "      <th>29</th>\n",
       "      <td>54048</td>\n",
       "      <td>RET100072</td>\n",
       "      <td>CO276506</td>\n",
       "      <td>2018-06-30 00:00:00</td>\n",
       "      <td>RETIREMENT</td>\n",
       "      <td>RETIREMENT ACCOUNT</td>\n",
       "      <td>223640.972973</td>\n",
       "    </tr>\n",
       "    <tr>\n",
       "      <th>30</th>\n",
       "      <td>54049</td>\n",
       "      <td>RET100072</td>\n",
       "      <td>CO276506</td>\n",
       "      <td>2018-07-31 00:00:00</td>\n",
       "      <td>RETIREMENT</td>\n",
       "      <td>RETIREMENT ACCOUNT</td>\n",
       "      <td>230268.405405</td>\n",
       "    </tr>\n",
       "    <tr>\n",
       "      <th>31</th>\n",
       "      <td>54050</td>\n",
       "      <td>RET100072</td>\n",
       "      <td>CO276506</td>\n",
       "      <td>2018-08-31 00:00:00</td>\n",
       "      <td>RETIREMENT</td>\n",
       "      <td>RETIREMENT ACCOUNT</td>\n",
       "      <td>236895.837838</td>\n",
       "    </tr>\n",
       "    <tr>\n",
       "      <th>32</th>\n",
       "      <td>54051</td>\n",
       "      <td>RET100072</td>\n",
       "      <td>CO276506</td>\n",
       "      <td>2018-09-30 00:00:00</td>\n",
       "      <td>RETIREMENT</td>\n",
       "      <td>RETIREMENT ACCOUNT</td>\n",
       "      <td>243523.270270</td>\n",
       "    </tr>\n",
       "    <tr>\n",
       "      <th>33</th>\n",
       "      <td>54052</td>\n",
       "      <td>RET100072</td>\n",
       "      <td>CO276506</td>\n",
       "      <td>2018-10-31 00:00:00</td>\n",
       "      <td>RETIREMENT</td>\n",
       "      <td>RETIREMENT ACCOUNT</td>\n",
       "      <td>250150.702703</td>\n",
       "    </tr>\n",
       "    <tr>\n",
       "      <th>34</th>\n",
       "      <td>54053</td>\n",
       "      <td>RET100072</td>\n",
       "      <td>CO276506</td>\n",
       "      <td>2018-11-30 00:00:00</td>\n",
       "      <td>RETIREMENT</td>\n",
       "      <td>RETIREMENT ACCOUNT</td>\n",
       "      <td>256778.135135</td>\n",
       "    </tr>\n",
       "    <tr>\n",
       "      <th>35</th>\n",
       "      <td>54054</td>\n",
       "      <td>RET100072</td>\n",
       "      <td>CO276506</td>\n",
       "      <td>2018-12-31 00:00:00</td>\n",
       "      <td>RETIREMENT</td>\n",
       "      <td>RETIREMENT ACCOUNT</td>\n",
       "      <td>263405.567568</td>\n",
       "    </tr>\n",
       "    <tr>\n",
       "      <th>36</th>\n",
       "      <td>54055</td>\n",
       "      <td>RET100072</td>\n",
       "      <td>CO276506</td>\n",
       "      <td>2019-01-31 00:00:00</td>\n",
       "      <td>RETIREMENT</td>\n",
       "      <td>RETIREMENT ACCOUNT</td>\n",
       "      <td>270033.000000</td>\n",
       "    </tr>\n",
       "  </tbody>\n",
       "</table>\n",
       "</div>"
      ],
      "text/plain": [
       "    index Policy Number Customer ID                 Date Product Category  \\\n",
       "0   54019     RET100072    CO276506  2016-01-31 00:00:00       RETIREMENT   \n",
       "1   54020     RET100072    CO276506  2016-02-29 00:00:00       RETIREMENT   \n",
       "2   54021     RET100072    CO276506  2016-03-31 00:00:00       RETIREMENT   \n",
       "3   54022     RET100072    CO276506  2016-04-30 00:00:00       RETIREMENT   \n",
       "4   54023     RET100072    CO276506  2016-05-31 00:00:00       RETIREMENT   \n",
       "5   54024     RET100072    CO276506  2016-06-30 00:00:00       RETIREMENT   \n",
       "6   54025     RET100072    CO276506  2016-07-31 00:00:00       RETIREMENT   \n",
       "7   54026     RET100072    CO276506  2016-08-31 00:00:00       RETIREMENT   \n",
       "8   54027     RET100072    CO276506  2016-09-30 00:00:00       RETIREMENT   \n",
       "9   54028     RET100072    CO276506  2016-10-31 00:00:00       RETIREMENT   \n",
       "10  54029     RET100072    CO276506  2016-11-30 00:00:00       RETIREMENT   \n",
       "11  54030     RET100072    CO276506  2016-12-31 00:00:00       RETIREMENT   \n",
       "12  54031     RET100072    CO276506  2017-01-31 00:00:00       RETIREMENT   \n",
       "13  54032     RET100072    CO276506  2017-02-28 00:00:00       RETIREMENT   \n",
       "14  54033     RET100072    CO276506  2017-03-31 00:00:00       RETIREMENT   \n",
       "15  54034     RET100072    CO276506  2017-04-30 00:00:00       RETIREMENT   \n",
       "16  54035     RET100072    CO276506  2017-05-31 00:00:00       RETIREMENT   \n",
       "17  54036     RET100072    CO276506  2017-06-30 00:00:00       RETIREMENT   \n",
       "18  54037     RET100072    CO276506  2017-07-31 00:00:00       RETIREMENT   \n",
       "19  54038     RET100072    CO276506  2017-08-31 00:00:00       RETIREMENT   \n",
       "20  54039     RET100072    CO276506  2017-09-30 00:00:00       RETIREMENT   \n",
       "21  54040     RET100072    CO276506  2017-10-31 00:00:00       RETIREMENT   \n",
       "22  54041     RET100072    CO276506  2017-11-30 00:00:00       RETIREMENT   \n",
       "23  54042     RET100072    CO276506  2017-12-31 00:00:00       RETIREMENT   \n",
       "24  54043     RET100072    CO276506  2018-01-31 00:00:00       RETIREMENT   \n",
       "25  54044     RET100072    CO276506  2018-02-28 00:00:00       RETIREMENT   \n",
       "26  54045     RET100072    CO276506  2018-03-31 00:00:00       RETIREMENT   \n",
       "27  54046     RET100072    CO276506  2018-04-30 00:00:00       RETIREMENT   \n",
       "28  54047     RET100072    CO276506  2018-05-31 00:00:00       RETIREMENT   \n",
       "29  54048     RET100072    CO276506  2018-06-30 00:00:00       RETIREMENT   \n",
       "30  54049     RET100072    CO276506  2018-07-31 00:00:00       RETIREMENT   \n",
       "31  54050     RET100072    CO276506  2018-08-31 00:00:00       RETIREMENT   \n",
       "32  54051     RET100072    CO276506  2018-09-30 00:00:00       RETIREMENT   \n",
       "33  54052     RET100072    CO276506  2018-10-31 00:00:00       RETIREMENT   \n",
       "34  54053     RET100072    CO276506  2018-11-30 00:00:00       RETIREMENT   \n",
       "35  54054     RET100072    CO276506  2018-12-31 00:00:00       RETIREMENT   \n",
       "36  54055     RET100072    CO276506  2019-01-31 00:00:00       RETIREMENT   \n",
       "\n",
       "          Product Name  Policy_Value_Snapshot  \n",
       "0   RETIREMENT ACCOUNT           31445.432432  \n",
       "1   RETIREMENT ACCOUNT           38072.864865  \n",
       "2   RETIREMENT ACCOUNT           44700.297297  \n",
       "3   RETIREMENT ACCOUNT           51327.729730  \n",
       "4   RETIREMENT ACCOUNT           57955.162162  \n",
       "5   RETIREMENT ACCOUNT           64582.594595  \n",
       "6   RETIREMENT ACCOUNT           71210.027027  \n",
       "7   RETIREMENT ACCOUNT           77837.459459  \n",
       "8   RETIREMENT ACCOUNT           84464.891892  \n",
       "9   RETIREMENT ACCOUNT           91092.324324  \n",
       "10  RETIREMENT ACCOUNT           97719.756757  \n",
       "11  RETIREMENT ACCOUNT          104347.189189  \n",
       "12  RETIREMENT ACCOUNT          110974.621622  \n",
       "13  RETIREMENT ACCOUNT          117602.054054  \n",
       "14  RETIREMENT ACCOUNT          124229.486486  \n",
       "15  RETIREMENT ACCOUNT          130856.918919  \n",
       "16  RETIREMENT ACCOUNT          137484.351351  \n",
       "17  RETIREMENT ACCOUNT          144111.783784  \n",
       "18  RETIREMENT ACCOUNT          150739.216216  \n",
       "19  RETIREMENT ACCOUNT          157366.648649  \n",
       "20  RETIREMENT ACCOUNT          163994.081081  \n",
       "21  RETIREMENT ACCOUNT          170621.513514  \n",
       "22  RETIREMENT ACCOUNT          177248.945946  \n",
       "23  RETIREMENT ACCOUNT          183876.378378  \n",
       "24  RETIREMENT ACCOUNT          190503.810811  \n",
       "25  RETIREMENT ACCOUNT          197131.243243  \n",
       "26  RETIREMENT ACCOUNT          203758.675676  \n",
       "27  RETIREMENT ACCOUNT          210386.108108  \n",
       "28  RETIREMENT ACCOUNT          217013.540541  \n",
       "29  RETIREMENT ACCOUNT          223640.972973  \n",
       "30  RETIREMENT ACCOUNT          230268.405405  \n",
       "31  RETIREMENT ACCOUNT          236895.837838  \n",
       "32  RETIREMENT ACCOUNT          243523.270270  \n",
       "33  RETIREMENT ACCOUNT          250150.702703  \n",
       "34  RETIREMENT ACCOUNT          256778.135135  \n",
       "35  RETIREMENT ACCOUNT          263405.567568  \n",
       "36  RETIREMENT ACCOUNT          270033.000000  "
      ]
     },
     "execution_count": 7,
     "metadata": {},
     "output_type": "execute_result"
    }
   ],
   "source": [
    "sqlite_query = \"\"\"\n",
    "SELECT \n",
    "*\n",
    "from Fund_Table\n",
    "where `Customer ID` = 'CO276506' and `Product Name` = 'RETIREMENT ACCOUNT'\n",
    "\"\"\"\n",
    "\n",
    "pd.read_sql(sqlite_query, conn)"
   ]
  },
  {
   "cell_type": "markdown",
   "metadata": {},
   "source": [
    "If a question requires additional explanation for your answer, please add additional cells below the code. "
   ]
  },
  {
   "cell_type": "markdown",
   "metadata": {
    "run_control": {
     "marked": true
    }
   },
   "source": [
    "## Q1: What is the current average policy value split by each product name? "
   ]
  },
  {
   "cell_type": "code",
   "execution_count": 8,
   "metadata": {},
   "outputs": [
    {
     "data": {
      "text/html": [
       "<div>\n",
       "<style scoped>\n",
       "    .dataframe tbody tr th:only-of-type {\n",
       "        vertical-align: middle;\n",
       "    }\n",
       "\n",
       "    .dataframe tbody tr th {\n",
       "        vertical-align: top;\n",
       "    }\n",
       "\n",
       "    .dataframe thead th {\n",
       "        text-align: right;\n",
       "    }\n",
       "</style>\n",
       "<table border=\"1\" class=\"dataframe\">\n",
       "  <thead>\n",
       "    <tr style=\"text-align: right;\">\n",
       "      <th></th>\n",
       "      <th>Policy Start Date</th>\n",
       "      <th>Product Name</th>\n",
       "      <th>Customer ID</th>\n",
       "      <th>Policy Value</th>\n",
       "    </tr>\n",
       "  </thead>\n",
       "  <tbody>\n",
       "    <tr>\n",
       "      <th>0</th>\n",
       "      <td>2013-05-14 00:00:00</td>\n",
       "      <td>STANDARD ANNUITY</td>\n",
       "      <td>CO577335</td>\n",
       "      <td>None</td>\n",
       "    </tr>\n",
       "    <tr>\n",
       "      <th>1</th>\n",
       "      <td>2011-08-13 00:00:00</td>\n",
       "      <td>STANDARD ANNUITY</td>\n",
       "      <td>CO300851</td>\n",
       "      <td>None</td>\n",
       "    </tr>\n",
       "    <tr>\n",
       "      <th>2</th>\n",
       "      <td>2014-02-07 00:00:00</td>\n",
       "      <td>STANDARD ANNUITY</td>\n",
       "      <td>CO112686</td>\n",
       "      <td>None</td>\n",
       "    </tr>\n",
       "    <tr>\n",
       "      <th>3</th>\n",
       "      <td>2013-07-07 00:00:00</td>\n",
       "      <td>STANDARD ANNUITY</td>\n",
       "      <td>CO508756</td>\n",
       "      <td>None</td>\n",
       "    </tr>\n",
       "    <tr>\n",
       "      <th>4</th>\n",
       "      <td>2012-03-18 00:00:00</td>\n",
       "      <td>STANDARD ANNUITY</td>\n",
       "      <td>CO34804</td>\n",
       "      <td>None</td>\n",
       "    </tr>\n",
       "    <tr>\n",
       "      <th>...</th>\n",
       "      <td>...</td>\n",
       "      <td>...</td>\n",
       "      <td>...</td>\n",
       "      <td>...</td>\n",
       "    </tr>\n",
       "    <tr>\n",
       "      <th>117</th>\n",
       "      <td>2010-11-13 00:00:00</td>\n",
       "      <td>STANDARD ANNUITY</td>\n",
       "      <td>CO135724</td>\n",
       "      <td>None</td>\n",
       "    </tr>\n",
       "    <tr>\n",
       "      <th>118</th>\n",
       "      <td>2010-12-27 00:00:00</td>\n",
       "      <td>STANDARD ANNUITY</td>\n",
       "      <td>CO785010</td>\n",
       "      <td>None</td>\n",
       "    </tr>\n",
       "    <tr>\n",
       "      <th>119</th>\n",
       "      <td>2013-10-16 00:00:00</td>\n",
       "      <td>STANDARD ANNUITY</td>\n",
       "      <td>CO155376</td>\n",
       "      <td>None</td>\n",
       "    </tr>\n",
       "    <tr>\n",
       "      <th>120</th>\n",
       "      <td>2010-01-06 00:00:00</td>\n",
       "      <td>STANDARD ANNUITY</td>\n",
       "      <td>CO76470</td>\n",
       "      <td>None</td>\n",
       "    </tr>\n",
       "    <tr>\n",
       "      <th>121</th>\n",
       "      <td>2011-06-27 00:00:00</td>\n",
       "      <td>STANDARD ANNUITY</td>\n",
       "      <td>CO321060</td>\n",
       "      <td>None</td>\n",
       "    </tr>\n",
       "  </tbody>\n",
       "</table>\n",
       "<p>122 rows × 4 columns</p>\n",
       "</div>"
      ],
      "text/plain": [
       "       Policy Start Date      Product Name Customer ID Policy Value\n",
       "0    2013-05-14 00:00:00  STANDARD ANNUITY    CO577335         None\n",
       "1    2011-08-13 00:00:00  STANDARD ANNUITY    CO300851         None\n",
       "2    2014-02-07 00:00:00  STANDARD ANNUITY    CO112686         None\n",
       "3    2013-07-07 00:00:00  STANDARD ANNUITY    CO508756         None\n",
       "4    2012-03-18 00:00:00  STANDARD ANNUITY     CO34804         None\n",
       "..                   ...               ...         ...          ...\n",
       "117  2010-11-13 00:00:00  STANDARD ANNUITY    CO135724         None\n",
       "118  2010-12-27 00:00:00  STANDARD ANNUITY    CO785010         None\n",
       "119  2013-10-16 00:00:00  STANDARD ANNUITY    CO155376         None\n",
       "120  2010-01-06 00:00:00  STANDARD ANNUITY     CO76470         None\n",
       "121  2011-06-27 00:00:00  STANDARD ANNUITY    CO321060         None\n",
       "\n",
       "[122 rows x 4 columns]"
      ]
     },
     "execution_count": 8,
     "metadata": {},
     "output_type": "execute_result"
    }
   ],
   "source": [
    "sqlite_query = \"\"\"\n",
    "SELECT `Policy Start Date`,`Product Name`,`Customer ID`,`Policy Value`\n",
    "from policy_Table\n",
    "WHERE \n",
    "`Policy Value` IS NULL;\n",
    "\"\"\"\n",
    "\n",
    "pd.read_sql(sqlite_query, conn)"
   ]
  },
  {
   "cell_type": "code",
   "execution_count": 9,
   "metadata": {
    "run_control": {
     "marked": true
    },
    "scrolled": true
   },
   "outputs": [
    {
     "data": {
      "text/html": [
       "<div>\n",
       "<style scoped>\n",
       "    .dataframe tbody tr th:only-of-type {\n",
       "        vertical-align: middle;\n",
       "    }\n",
       "\n",
       "    .dataframe tbody tr th {\n",
       "        vertical-align: top;\n",
       "    }\n",
       "\n",
       "    .dataframe thead th {\n",
       "        text-align: right;\n",
       "    }\n",
       "</style>\n",
       "<table border=\"1\" class=\"dataframe\">\n",
       "  <thead>\n",
       "    <tr style=\"text-align: right;\">\n",
       "      <th></th>\n",
       "      <th>Product Category</th>\n",
       "      <th>Product Name</th>\n",
       "      <th>current_avg_policy_value</th>\n",
       "    </tr>\n",
       "  </thead>\n",
       "  <tbody>\n",
       "    <tr>\n",
       "      <th>0</th>\n",
       "      <td>RETIREMENT</td>\n",
       "      <td>RETIREMENT ACCOUNT</td>\n",
       "      <td>504964.959960</td>\n",
       "    </tr>\n",
       "    <tr>\n",
       "      <th>1</th>\n",
       "      <td>ISA</td>\n",
       "      <td>FOCUSSED ISA</td>\n",
       "      <td>5746.341270</td>\n",
       "    </tr>\n",
       "    <tr>\n",
       "      <th>2</th>\n",
       "      <td>PENSION</td>\n",
       "      <td>CORPORATE MEMBERSHIP</td>\n",
       "      <td>5697.285714</td>\n",
       "    </tr>\n",
       "    <tr>\n",
       "      <th>3</th>\n",
       "      <td>PENSION</td>\n",
       "      <td>SIPP</td>\n",
       "      <td>5335.842466</td>\n",
       "    </tr>\n",
       "    <tr>\n",
       "      <th>4</th>\n",
       "      <td>PENSION</td>\n",
       "      <td>NHS PENSION</td>\n",
       "      <td>5241.500000</td>\n",
       "    </tr>\n",
       "    <tr>\n",
       "      <th>5</th>\n",
       "      <td>ISA</td>\n",
       "      <td>PRUDENTIAL ISA</td>\n",
       "      <td>5161.135593</td>\n",
       "    </tr>\n",
       "    <tr>\n",
       "      <th>6</th>\n",
       "      <td>BOND</td>\n",
       "      <td>PRUDENTIAL INVESTMENT PLAN</td>\n",
       "      <td>5084.515152</td>\n",
       "    </tr>\n",
       "    <tr>\n",
       "      <th>7</th>\n",
       "      <td>BOND</td>\n",
       "      <td>PRU BOND</td>\n",
       "      <td>4516.389831</td>\n",
       "    </tr>\n",
       "    <tr>\n",
       "      <th>8</th>\n",
       "      <td>ANNUITY</td>\n",
       "      <td>STANDARD ANNUITY</td>\n",
       "      <td>NaN</td>\n",
       "    </tr>\n",
       "  </tbody>\n",
       "</table>\n",
       "</div>"
      ],
      "text/plain": [
       "  Product Category                Product Name  current_avg_policy_value\n",
       "0       RETIREMENT          RETIREMENT ACCOUNT             504964.959960\n",
       "1              ISA                FOCUSSED ISA               5746.341270\n",
       "2          PENSION        CORPORATE MEMBERSHIP               5697.285714\n",
       "3          PENSION                        SIPP               5335.842466\n",
       "4          PENSION                 NHS PENSION               5241.500000\n",
       "5              ISA              PRUDENTIAL ISA               5161.135593\n",
       "6             BOND  PRUDENTIAL INVESTMENT PLAN               5084.515152\n",
       "7             BOND                    PRU BOND               4516.389831\n",
       "8          ANNUITY            STANDARD ANNUITY                       NaN"
      ]
     },
     "execution_count": 9,
     "metadata": {},
     "output_type": "execute_result"
    }
   ],
   "source": [
    "sqlite_query = \"\"\"\n",
    "SELECT `Product Category`,`Product Name`, avg(`Policy Value`) as current_avg_policy_value\n",
    "FROM\n",
    "policy_table\n",
    "GROUP BY `Product Name`\n",
    "ORDER BY `current_avg_policy_value` DESC;\n",
    "\"\"\"\n",
    "\n",
    "pd.read_sql(sqlite_query, conn)"
   ]
  },
  {
   "cell_type": "markdown",
   "metadata": {
    "run_control": {
     "marked": true
    }
   },
   "source": [
    "## Q2: How many customers opened a new policy in Q1 2017 who already had an existing pension product? "
   ]
  },
  {
   "cell_type": "code",
   "execution_count": 10,
   "metadata": {
    "run_control": {
     "marked": true
    },
    "scrolled": true
   },
   "outputs": [
    {
     "data": {
      "text/html": [
       "<div>\n",
       "<style scoped>\n",
       "    .dataframe tbody tr th:only-of-type {\n",
       "        vertical-align: middle;\n",
       "    }\n",
       "\n",
       "    .dataframe tbody tr th {\n",
       "        vertical-align: top;\n",
       "    }\n",
       "\n",
       "    .dataframe thead th {\n",
       "        text-align: right;\n",
       "    }\n",
       "</style>\n",
       "<table border=\"1\" class=\"dataframe\">\n",
       "  <thead>\n",
       "    <tr style=\"text-align: right;\">\n",
       "      <th></th>\n",
       "      <th>COUNT(*)</th>\n",
       "    </tr>\n",
       "  </thead>\n",
       "  <tbody>\n",
       "    <tr>\n",
       "      <th>0</th>\n",
       "      <td>1025</td>\n",
       "    </tr>\n",
       "  </tbody>\n",
       "</table>\n",
       "</div>"
      ],
      "text/plain": [
       "   COUNT(*)\n",
       "0      1025"
      ]
     },
     "execution_count": 10,
     "metadata": {},
     "output_type": "execute_result"
    }
   ],
   "source": [
    "sqlite_query = \"\"\"\n",
    "select COUNT(*) from Fund_table where `Customer ID` in (\n",
    "SELECT DISTINCT(`Customer ID`) FROM(\n",
    "SELECT *,strftime('%Y',`Date`) as Year_17, strftime('%m',`Date`) as \"Month_For_Quater\"\n",
    "FROM \n",
    "Fund_table\n",
    "WHERE `Product Category` IS 'PENSION' AND `Year_17` <= '2017'\n",
    "))\n",
    "AND strftime('%m',`Date`) IN ('01','02','03') AND strftime('%Y',`Date`) IN ('2017')\n",
    "\"\"\"\n",
    "pd.read_sql(sqlite_query, conn)"
   ]
  },
  {
   "cell_type": "markdown",
   "metadata": {
    "run_control": {
     "marked": true
    }
   },
   "source": [
    "## Q3: What was the customer ID that had the biggest difference in policy value between its earliest and latest date (for any product) ?"
   ]
  },
  {
   "cell_type": "code",
   "execution_count": 12,
   "metadata": {},
   "outputs": [
    {
     "data": {
      "text/html": [
       "<div>\n",
       "<style scoped>\n",
       "    .dataframe tbody tr th:only-of-type {\n",
       "        vertical-align: middle;\n",
       "    }\n",
       "\n",
       "    .dataframe tbody tr th {\n",
       "        vertical-align: top;\n",
       "    }\n",
       "\n",
       "    .dataframe thead th {\n",
       "        text-align: right;\n",
       "    }\n",
       "</style>\n",
       "<table border=\"1\" class=\"dataframe\">\n",
       "  <thead>\n",
       "    <tr style=\"text-align: right;\">\n",
       "      <th></th>\n",
       "      <th>Customer ID</th>\n",
       "      <th>policy_difference</th>\n",
       "    </tr>\n",
       "  </thead>\n",
       "  <tbody>\n",
       "    <tr>\n",
       "      <th>0</th>\n",
       "      <td>CO687603</td>\n",
       "      <td>895357.357143</td>\n",
       "    </tr>\n",
       "  </tbody>\n",
       "</table>\n",
       "</div>"
      ],
      "text/plain": [
       "  Customer ID  policy_difference\n",
       "0    CO687603      895357.357143"
      ]
     },
     "execution_count": 12,
     "metadata": {},
     "output_type": "execute_result"
    }
   ],
   "source": [
    "sqlite_query = \"\"\"\n",
    "select `Customer ID`, (Policy_value2 - Policy_value1) as policy_difference from(\n",
    "select * from (\n",
    "(select Min(Date) as first_date, `Policy_Value_Snapshot` as Policy_value1,`Customer ID`\n",
    "from \n",
    "Fund_table\n",
    "group by `Customer ID`\n",
    "order by `Customer ID`) a LEFT JOIN\n",
    "(select Max(Date) as last_date, Policy_Value_Snapshot as Policy_value2 ,`Customer ID`\n",
    "from \n",
    "Fund_table\n",
    "group by `Customer ID`\n",
    "order by `Customer ID`) b\n",
    "on a.`Customer ID` = b.`Customer ID`\n",
    ") where Policy_value1  IS NOT NULL\n",
    ") order by policy_difference DESC\n",
    "limit 1\n",
    "\"\"\"\n",
    "pd.read_sql(sqlite_query, conn)"
   ]
  },
  {
   "cell_type": "code",
   "execution_count": 13,
   "metadata": {},
   "outputs": [
    {
     "data": {
      "text/plain": [
       "895357.357143"
      ]
     },
     "execution_count": 13,
     "metadata": {},
     "output_type": "execute_result"
    }
   ],
   "source": [
    "989049.000000 - 93691.642857"
   ]
  },
  {
   "cell_type": "code",
   "execution_count": 14,
   "metadata": {},
   "outputs": [],
   "source": [
    "# CO687603 -- is the answer "
   ]
  },
  {
   "cell_type": "markdown",
   "metadata": {
    "run_control": {
     "marked": true
    }
   },
   "source": [
    "# Python Test\n",
    "\n",
    "Same data, but now let's have some fun in python. Please do not use SQL for this part of the exercise. \n",
    "\n",
    "Feel free to add more cells of code or text"
   ]
  },
  {
   "cell_type": "code",
   "execution_count": 15,
   "metadata": {
    "run_control": {
     "marked": true
    }
   },
   "outputs": [],
   "source": [
    "Customer_Table = pd.read_sql('SELECT * FROM Customer_Table', conn)\n",
    "Policy_Table = pd.read_sql('SELECT * FROM Policy_Table', conn)\n",
    "Fund_Table = pd.read_sql('SELECT * FROM Fund_Table', conn)"
   ]
  },
  {
   "cell_type": "markdown",
   "metadata": {
    "run_control": {
     "marked": true
    }
   },
   "source": [
    "## Q4: Produce a list of customers which have an invalid email address. What do you notice about these customers? ##\n",
    "\n",
    "Feel free to use any packages of your choice"
   ]
  },
  {
   "cell_type": "code",
   "execution_count": 16,
   "metadata": {},
   "outputs": [
    {
     "data": {
      "text/plain": [
       "pandas.core.frame.DataFrame"
      ]
     },
     "execution_count": 16,
     "metadata": {},
     "output_type": "execute_result"
    }
   ],
   "source": [
    "type(Customer_Table)"
   ]
  },
  {
   "cell_type": "code",
   "execution_count": 17,
   "metadata": {},
   "outputs": [
    {
     "data": {
      "text/plain": [
       "0            NLUPPITT14@PARALLELS.COM\n",
       "1                                None\n",
       "2                                None\n",
       "3                                None\n",
       "4                                None\n",
       "                    ...              \n",
       "994    CFRAMMINGHAM37@STUMBLEUPON.COM\n",
       "995        RRICCIARDELLI38@GOOGLE.COM\n",
       "996             ODYZARTMY@SAMSUNG.COM\n",
       "997            VENDLENT@MICROSOFT.COM\n",
       "998         IOFIHILLIEDJ@BLOGSPOT.COM\n",
       "Name: Email, Length: 999, dtype: object"
      ]
     },
     "execution_count": 17,
     "metadata": {},
     "output_type": "execute_result"
    }
   ],
   "source": [
    "Customer_Table['Email']"
   ]
  },
  {
   "cell_type": "code",
   "execution_count": 18,
   "metadata": {},
   "outputs": [
    {
     "data": {
      "text/plain": [
       "47"
      ]
     },
     "execution_count": 18,
     "metadata": {},
     "output_type": "execute_result"
    }
   ],
   "source": [
    "Customer_Table['Email'].isnull().sum()"
   ]
  },
  {
   "cell_type": "code",
   "execution_count": 19,
   "metadata": {},
   "outputs": [],
   "source": [
    "import re\n",
    "def valid_email(x):\n",
    "    pattern = \"[a-zA-Z0-9]+@[a-zA-Z]+\\.(com|edu|net|org|in|COM|EDU|NET|ORG|IN)\"\n",
    "    if re.search(pattern,x):\n",
    "        return True\n",
    "    else:\n",
    "        return False"
   ]
  },
  {
   "cell_type": "code",
   "execution_count": 20,
   "metadata": {},
   "outputs": [
    {
     "data": {
      "text/html": [
       "<div>\n",
       "<style scoped>\n",
       "    .dataframe tbody tr th:only-of-type {\n",
       "        vertical-align: middle;\n",
       "    }\n",
       "\n",
       "    .dataframe tbody tr th {\n",
       "        vertical-align: top;\n",
       "    }\n",
       "\n",
       "    .dataframe thead th {\n",
       "        text-align: right;\n",
       "    }\n",
       "</style>\n",
       "<table border=\"1\" class=\"dataframe\">\n",
       "  <thead>\n",
       "    <tr style=\"text-align: right;\">\n",
       "      <th></th>\n",
       "      <th>index</th>\n",
       "      <th>Customer ID</th>\n",
       "      <th>Email</th>\n",
       "      <th>Gender</th>\n",
       "      <th>Age</th>\n",
       "      <th>Postcode</th>\n",
       "    </tr>\n",
       "  </thead>\n",
       "  <tbody>\n",
       "    <tr>\n",
       "      <th>0</th>\n",
       "      <td>0</td>\n",
       "      <td>CO183683</td>\n",
       "      <td>NLUPPITT14@PARALLELS.COM</td>\n",
       "      <td>Male</td>\n",
       "      <td>90</td>\n",
       "      <td>None</td>\n",
       "    </tr>\n",
       "    <tr>\n",
       "      <th>1</th>\n",
       "      <td>1</td>\n",
       "      <td>CO314757</td>\n",
       "      <td>Empty</td>\n",
       "      <td>Female</td>\n",
       "      <td>90</td>\n",
       "      <td>None</td>\n",
       "    </tr>\n",
       "    <tr>\n",
       "      <th>2</th>\n",
       "      <td>2</td>\n",
       "      <td>CO720602</td>\n",
       "      <td>Empty</td>\n",
       "      <td>Female</td>\n",
       "      <td>90</td>\n",
       "      <td>None</td>\n",
       "    </tr>\n",
       "    <tr>\n",
       "      <th>3</th>\n",
       "      <td>3</td>\n",
       "      <td>CO34804</td>\n",
       "      <td>Empty</td>\n",
       "      <td>Female</td>\n",
       "      <td>90</td>\n",
       "      <td>1495-701</td>\n",
       "    </tr>\n",
       "    <tr>\n",
       "      <th>4</th>\n",
       "      <td>4</td>\n",
       "      <td>CO474411</td>\n",
       "      <td>Empty</td>\n",
       "      <td>Male</td>\n",
       "      <td>90</td>\n",
       "      <td>301288</td>\n",
       "    </tr>\n",
       "  </tbody>\n",
       "</table>\n",
       "</div>"
      ],
      "text/plain": [
       "   index Customer ID                     Email  Gender  Age  Postcode\n",
       "0      0    CO183683  NLUPPITT14@PARALLELS.COM    Male   90      None\n",
       "1      1    CO314757                     Empty  Female   90      None\n",
       "2      2    CO720602                     Empty  Female   90      None\n",
       "3      3     CO34804                     Empty  Female   90  1495-701\n",
       "4      4    CO474411                     Empty    Male   90    301288"
      ]
     },
     "execution_count": 20,
     "metadata": {},
     "output_type": "execute_result"
    }
   ],
   "source": [
    "Customer_Table[\"Email\"].replace([None], 'Empty', inplace=True)\n",
    "Customer_Table.head()"
   ]
  },
  {
   "cell_type": "code",
   "execution_count": 21,
   "metadata": {},
   "outputs": [
    {
     "data": {
      "text/plain": [
       "0"
      ]
     },
     "execution_count": 21,
     "metadata": {},
     "output_type": "execute_result"
    }
   ],
   "source": [
    "Customer_Table['Email'].isnull().sum()"
   ]
  },
  {
   "cell_type": "code",
   "execution_count": 22,
   "metadata": {},
   "outputs": [],
   "source": [
    "Customer_Table[\"is_valid_email\"] = Customer_Table[\"Email\"].apply(valid_email)"
   ]
  },
  {
   "cell_type": "code",
   "execution_count": 23,
   "metadata": {},
   "outputs": [
    {
     "data": {
      "text/html": [
       "<div>\n",
       "<style scoped>\n",
       "    .dataframe tbody tr th:only-of-type {\n",
       "        vertical-align: middle;\n",
       "    }\n",
       "\n",
       "    .dataframe tbody tr th {\n",
       "        vertical-align: top;\n",
       "    }\n",
       "\n",
       "    .dataframe thead th {\n",
       "        text-align: right;\n",
       "    }\n",
       "</style>\n",
       "<table border=\"1\" class=\"dataframe\">\n",
       "  <thead>\n",
       "    <tr style=\"text-align: right;\">\n",
       "      <th></th>\n",
       "      <th>index</th>\n",
       "      <th>Customer ID</th>\n",
       "      <th>Email</th>\n",
       "      <th>Gender</th>\n",
       "      <th>Age</th>\n",
       "      <th>Postcode</th>\n",
       "      <th>is_valid_email</th>\n",
       "    </tr>\n",
       "  </thead>\n",
       "  <tbody>\n",
       "    <tr>\n",
       "      <th>0</th>\n",
       "      <td>0</td>\n",
       "      <td>CO183683</td>\n",
       "      <td>NLUPPITT14@PARALLELS.COM</td>\n",
       "      <td>Male</td>\n",
       "      <td>90</td>\n",
       "      <td>None</td>\n",
       "      <td>True</td>\n",
       "    </tr>\n",
       "    <tr>\n",
       "      <th>1</th>\n",
       "      <td>1</td>\n",
       "      <td>CO314757</td>\n",
       "      <td>Empty</td>\n",
       "      <td>Female</td>\n",
       "      <td>90</td>\n",
       "      <td>None</td>\n",
       "      <td>False</td>\n",
       "    </tr>\n",
       "    <tr>\n",
       "      <th>2</th>\n",
       "      <td>2</td>\n",
       "      <td>CO720602</td>\n",
       "      <td>Empty</td>\n",
       "      <td>Female</td>\n",
       "      <td>90</td>\n",
       "      <td>None</td>\n",
       "      <td>False</td>\n",
       "    </tr>\n",
       "    <tr>\n",
       "      <th>3</th>\n",
       "      <td>3</td>\n",
       "      <td>CO34804</td>\n",
       "      <td>Empty</td>\n",
       "      <td>Female</td>\n",
       "      <td>90</td>\n",
       "      <td>1495-701</td>\n",
       "      <td>False</td>\n",
       "    </tr>\n",
       "    <tr>\n",
       "      <th>4</th>\n",
       "      <td>4</td>\n",
       "      <td>CO474411</td>\n",
       "      <td>Empty</td>\n",
       "      <td>Male</td>\n",
       "      <td>90</td>\n",
       "      <td>301288</td>\n",
       "      <td>False</td>\n",
       "    </tr>\n",
       "    <tr>\n",
       "      <th>...</th>\n",
       "      <td>...</td>\n",
       "      <td>...</td>\n",
       "      <td>...</td>\n",
       "      <td>...</td>\n",
       "      <td>...</td>\n",
       "      <td>...</td>\n",
       "      <td>...</td>\n",
       "    </tr>\n",
       "    <tr>\n",
       "      <th>994</th>\n",
       "      <td>994</td>\n",
       "      <td>CO957494</td>\n",
       "      <td>CFRAMMINGHAM37@STUMBLEUPON.COM</td>\n",
       "      <td>Female</td>\n",
       "      <td>27</td>\n",
       "      <td>92736</td>\n",
       "      <td>True</td>\n",
       "    </tr>\n",
       "    <tr>\n",
       "      <th>995</th>\n",
       "      <td>995</td>\n",
       "      <td>CO503828</td>\n",
       "      <td>RRICCIARDELLI38@GOOGLE.COM</td>\n",
       "      <td>Male</td>\n",
       "      <td>24</td>\n",
       "      <td>None</td>\n",
       "      <td>True</td>\n",
       "    </tr>\n",
       "    <tr>\n",
       "      <th>996</th>\n",
       "      <td>996</td>\n",
       "      <td>CO340813</td>\n",
       "      <td>ODYZARTMY@SAMSUNG.COM</td>\n",
       "      <td>Male</td>\n",
       "      <td>22</td>\n",
       "      <td>None</td>\n",
       "      <td>True</td>\n",
       "    </tr>\n",
       "    <tr>\n",
       "      <th>997</th>\n",
       "      <td>997</td>\n",
       "      <td>CO403019</td>\n",
       "      <td>VENDLENT@MICROSOFT.COM</td>\n",
       "      <td>Female</td>\n",
       "      <td>22</td>\n",
       "      <td>735 41</td>\n",
       "      <td>True</td>\n",
       "    </tr>\n",
       "    <tr>\n",
       "      <th>998</th>\n",
       "      <td>998</td>\n",
       "      <td>CO274837</td>\n",
       "      <td>IOFIHILLIEDJ@BLOGSPOT.COM</td>\n",
       "      <td>Male</td>\n",
       "      <td>20</td>\n",
       "      <td>8306</td>\n",
       "      <td>True</td>\n",
       "    </tr>\n",
       "  </tbody>\n",
       "</table>\n",
       "<p>999 rows × 7 columns</p>\n",
       "</div>"
      ],
      "text/plain": [
       "     index Customer ID                           Email  Gender  Age  Postcode  \\\n",
       "0        0    CO183683        NLUPPITT14@PARALLELS.COM    Male   90      None   \n",
       "1        1    CO314757                           Empty  Female   90      None   \n",
       "2        2    CO720602                           Empty  Female   90      None   \n",
       "3        3     CO34804                           Empty  Female   90  1495-701   \n",
       "4        4    CO474411                           Empty    Male   90    301288   \n",
       "..     ...         ...                             ...     ...  ...       ...   \n",
       "994    994    CO957494  CFRAMMINGHAM37@STUMBLEUPON.COM  Female   27     92736   \n",
       "995    995    CO503828      RRICCIARDELLI38@GOOGLE.COM    Male   24      None   \n",
       "996    996    CO340813           ODYZARTMY@SAMSUNG.COM    Male   22      None   \n",
       "997    997    CO403019          VENDLENT@MICROSOFT.COM  Female   22    735 41   \n",
       "998    998    CO274837       IOFIHILLIEDJ@BLOGSPOT.COM    Male   20      8306   \n",
       "\n",
       "     is_valid_email  \n",
       "0              True  \n",
       "1             False  \n",
       "2             False  \n",
       "3             False  \n",
       "4             False  \n",
       "..              ...  \n",
       "994            True  \n",
       "995            True  \n",
       "996            True  \n",
       "997            True  \n",
       "998            True  \n",
       "\n",
       "[999 rows x 7 columns]"
      ]
     },
     "execution_count": 23,
     "metadata": {},
     "output_type": "execute_result"
    }
   ],
   "source": [
    "Customer_Table"
   ]
  },
  {
   "cell_type": "code",
   "execution_count": 24,
   "metadata": {},
   "outputs": [
    {
     "data": {
      "text/plain": [
       "True     674\n",
       "False    325\n",
       "Name: is_valid_email, dtype: int64"
      ]
     },
     "execution_count": 24,
     "metadata": {},
     "output_type": "execute_result"
    }
   ],
   "source": [
    "Customer_Table['is_valid_email'].value_counts()"
   ]
  },
  {
   "cell_type": "code",
   "execution_count": 25,
   "metadata": {},
   "outputs": [],
   "source": [
    "new_email_df = Customer_Table.merge(Policy_Table, on = \"Customer ID\", how=\"left\")"
   ]
  },
  {
   "cell_type": "code",
   "execution_count": 26,
   "metadata": {},
   "outputs": [
    {
     "data": {
      "text/html": [
       "<div>\n",
       "<style scoped>\n",
       "    .dataframe tbody tr th:only-of-type {\n",
       "        vertical-align: middle;\n",
       "    }\n",
       "\n",
       "    .dataframe tbody tr th {\n",
       "        vertical-align: top;\n",
       "    }\n",
       "\n",
       "    .dataframe thead th {\n",
       "        text-align: right;\n",
       "    }\n",
       "</style>\n",
       "<table border=\"1\" class=\"dataframe\">\n",
       "  <thead>\n",
       "    <tr style=\"text-align: right;\">\n",
       "      <th></th>\n",
       "      <th>index_x</th>\n",
       "      <th>Customer ID</th>\n",
       "      <th>Email</th>\n",
       "      <th>Gender</th>\n",
       "      <th>Age</th>\n",
       "      <th>Postcode</th>\n",
       "      <th>is_valid_email</th>\n",
       "      <th>index_y</th>\n",
       "      <th>Policy Number</th>\n",
       "      <th>Product Category</th>\n",
       "      <th>Product Name</th>\n",
       "      <th>Policy Value</th>\n",
       "      <th>Policy Start Date</th>\n",
       "    </tr>\n",
       "  </thead>\n",
       "  <tbody>\n",
       "    <tr>\n",
       "      <th>0</th>\n",
       "      <td>0</td>\n",
       "      <td>CO183683</td>\n",
       "      <td>NLUPPITT14@PARALLELS.COM</td>\n",
       "      <td>Male</td>\n",
       "      <td>90</td>\n",
       "      <td>None</td>\n",
       "      <td>True</td>\n",
       "      <td>661</td>\n",
       "      <td>RET100041</td>\n",
       "      <td>RETIREMENT</td>\n",
       "      <td>RETIREMENT ACCOUNT</td>\n",
       "      <td>744154.0</td>\n",
       "      <td>2017-12-27 00:00:00</td>\n",
       "    </tr>\n",
       "    <tr>\n",
       "      <th>1</th>\n",
       "      <td>1</td>\n",
       "      <td>CO314757</td>\n",
       "      <td>Empty</td>\n",
       "      <td>Female</td>\n",
       "      <td>90</td>\n",
       "      <td>None</td>\n",
       "      <td>False</td>\n",
       "      <td>563</td>\n",
       "      <td>RET100125</td>\n",
       "      <td>RETIREMENT</td>\n",
       "      <td>RETIREMENT ACCOUNT</td>\n",
       "      <td>192389.0</td>\n",
       "      <td>2017-09-16 00:00:00</td>\n",
       "    </tr>\n",
       "    <tr>\n",
       "      <th>2</th>\n",
       "      <td>1</td>\n",
       "      <td>CO314757</td>\n",
       "      <td>Empty</td>\n",
       "      <td>Female</td>\n",
       "      <td>90</td>\n",
       "      <td>None</td>\n",
       "      <td>False</td>\n",
       "      <td>1562</td>\n",
       "      <td>ANN3661</td>\n",
       "      <td>ANNUITY</td>\n",
       "      <td>STANDARD ANNUITY</td>\n",
       "      <td>NaN</td>\n",
       "      <td>2013-05-21 00:00:00</td>\n",
       "    </tr>\n",
       "    <tr>\n",
       "      <th>3</th>\n",
       "      <td>2</td>\n",
       "      <td>CO720602</td>\n",
       "      <td>Empty</td>\n",
       "      <td>Female</td>\n",
       "      <td>90</td>\n",
       "      <td>None</td>\n",
       "      <td>False</td>\n",
       "      <td>875</td>\n",
       "      <td>RET100188</td>\n",
       "      <td>RETIREMENT</td>\n",
       "      <td>RETIREMENT ACCOUNT</td>\n",
       "      <td>904394.0</td>\n",
       "      <td>2018-08-11 00:00:00</td>\n",
       "    </tr>\n",
       "    <tr>\n",
       "      <th>4</th>\n",
       "      <td>3</td>\n",
       "      <td>CO34804</td>\n",
       "      <td>Empty</td>\n",
       "      <td>Female</td>\n",
       "      <td>90</td>\n",
       "      <td>1495-701</td>\n",
       "      <td>False</td>\n",
       "      <td>518</td>\n",
       "      <td>RET100566</td>\n",
       "      <td>RETIREMENT</td>\n",
       "      <td>RETIREMENT ACCOUNT</td>\n",
       "      <td>805735.0</td>\n",
       "      <td>2017-07-17 00:00:00</td>\n",
       "    </tr>\n",
       "    <tr>\n",
       "      <th>...</th>\n",
       "      <td>...</td>\n",
       "      <td>...</td>\n",
       "      <td>...</td>\n",
       "      <td>...</td>\n",
       "      <td>...</td>\n",
       "      <td>...</td>\n",
       "      <td>...</td>\n",
       "      <td>...</td>\n",
       "      <td>...</td>\n",
       "      <td>...</td>\n",
       "      <td>...</td>\n",
       "      <td>...</td>\n",
       "      <td>...</td>\n",
       "    </tr>\n",
       "    <tr>\n",
       "      <th>1630</th>\n",
       "      <td>996</td>\n",
       "      <td>CO340813</td>\n",
       "      <td>ODYZARTMY@SAMSUNG.COM</td>\n",
       "      <td>Male</td>\n",
       "      <td>22</td>\n",
       "      <td>None</td>\n",
       "      <td>True</td>\n",
       "      <td>81</td>\n",
       "      <td>RET100827</td>\n",
       "      <td>RETIREMENT</td>\n",
       "      <td>RETIREMENT ACCOUNT</td>\n",
       "      <td>533501.0</td>\n",
       "      <td>2016-04-06 00:00:00</td>\n",
       "    </tr>\n",
       "    <tr>\n",
       "      <th>1631</th>\n",
       "      <td>996</td>\n",
       "      <td>CO340813</td>\n",
       "      <td>ODYZARTMY@SAMSUNG.COM</td>\n",
       "      <td>Male</td>\n",
       "      <td>22</td>\n",
       "      <td>None</td>\n",
       "      <td>True</td>\n",
       "      <td>1080</td>\n",
       "      <td>ISA6408</td>\n",
       "      <td>ISA</td>\n",
       "      <td>FOCUSSED ISA</td>\n",
       "      <td>7176.0</td>\n",
       "      <td>2012-11-15 00:00:00</td>\n",
       "    </tr>\n",
       "    <tr>\n",
       "      <th>1632</th>\n",
       "      <td>997</td>\n",
       "      <td>CO403019</td>\n",
       "      <td>VENDLENT@MICROSOFT.COM</td>\n",
       "      <td>Female</td>\n",
       "      <td>22</td>\n",
       "      <td>735 41</td>\n",
       "      <td>True</td>\n",
       "      <td>709</td>\n",
       "      <td>RET100858</td>\n",
       "      <td>RETIREMENT</td>\n",
       "      <td>RETIREMENT ACCOUNT</td>\n",
       "      <td>280107.0</td>\n",
       "      <td>2018-02-19 00:00:00</td>\n",
       "    </tr>\n",
       "    <tr>\n",
       "      <th>1633</th>\n",
       "      <td>998</td>\n",
       "      <td>CO274837</td>\n",
       "      <td>IOFIHILLIEDJ@BLOGSPOT.COM</td>\n",
       "      <td>Male</td>\n",
       "      <td>20</td>\n",
       "      <td>8306</td>\n",
       "      <td>True</td>\n",
       "      <td>18</td>\n",
       "      <td>RET100488</td>\n",
       "      <td>RETIREMENT</td>\n",
       "      <td>RETIREMENT ACCOUNT</td>\n",
       "      <td>667547.0</td>\n",
       "      <td>2016-01-21 00:00:00</td>\n",
       "    </tr>\n",
       "    <tr>\n",
       "      <th>1634</th>\n",
       "      <td>998</td>\n",
       "      <td>CO274837</td>\n",
       "      <td>IOFIHILLIEDJ@BLOGSPOT.COM</td>\n",
       "      <td>Male</td>\n",
       "      <td>20</td>\n",
       "      <td>8306</td>\n",
       "      <td>True</td>\n",
       "      <td>1017</td>\n",
       "      <td>ISA8693</td>\n",
       "      <td>ISA</td>\n",
       "      <td>PRUDENTIAL ISA</td>\n",
       "      <td>6740.0</td>\n",
       "      <td>2009-07-20 00:00:00</td>\n",
       "    </tr>\n",
       "  </tbody>\n",
       "</table>\n",
       "<p>1635 rows × 13 columns</p>\n",
       "</div>"
      ],
      "text/plain": [
       "      index_x Customer ID                      Email  Gender  Age  Postcode  \\\n",
       "0           0    CO183683   NLUPPITT14@PARALLELS.COM    Male   90      None   \n",
       "1           1    CO314757                      Empty  Female   90      None   \n",
       "2           1    CO314757                      Empty  Female   90      None   \n",
       "3           2    CO720602                      Empty  Female   90      None   \n",
       "4           3     CO34804                      Empty  Female   90  1495-701   \n",
       "...       ...         ...                        ...     ...  ...       ...   \n",
       "1630      996    CO340813      ODYZARTMY@SAMSUNG.COM    Male   22      None   \n",
       "1631      996    CO340813      ODYZARTMY@SAMSUNG.COM    Male   22      None   \n",
       "1632      997    CO403019     VENDLENT@MICROSOFT.COM  Female   22    735 41   \n",
       "1633      998    CO274837  IOFIHILLIEDJ@BLOGSPOT.COM    Male   20      8306   \n",
       "1634      998    CO274837  IOFIHILLIEDJ@BLOGSPOT.COM    Male   20      8306   \n",
       "\n",
       "      is_valid_email  index_y Policy Number Product Category  \\\n",
       "0               True      661     RET100041       RETIREMENT   \n",
       "1              False      563     RET100125       RETIREMENT   \n",
       "2              False     1562       ANN3661          ANNUITY   \n",
       "3              False      875     RET100188       RETIREMENT   \n",
       "4              False      518     RET100566       RETIREMENT   \n",
       "...              ...      ...           ...              ...   \n",
       "1630            True       81     RET100827       RETIREMENT   \n",
       "1631            True     1080       ISA6408              ISA   \n",
       "1632            True      709     RET100858       RETIREMENT   \n",
       "1633            True       18     RET100488       RETIREMENT   \n",
       "1634            True     1017       ISA8693              ISA   \n",
       "\n",
       "            Product Name  Policy Value    Policy Start Date  \n",
       "0     RETIREMENT ACCOUNT      744154.0  2017-12-27 00:00:00  \n",
       "1     RETIREMENT ACCOUNT      192389.0  2017-09-16 00:00:00  \n",
       "2       STANDARD ANNUITY           NaN  2013-05-21 00:00:00  \n",
       "3     RETIREMENT ACCOUNT      904394.0  2018-08-11 00:00:00  \n",
       "4     RETIREMENT ACCOUNT      805735.0  2017-07-17 00:00:00  \n",
       "...                  ...           ...                  ...  \n",
       "1630  RETIREMENT ACCOUNT      533501.0  2016-04-06 00:00:00  \n",
       "1631        FOCUSSED ISA        7176.0  2012-11-15 00:00:00  \n",
       "1632  RETIREMENT ACCOUNT      280107.0  2018-02-19 00:00:00  \n",
       "1633  RETIREMENT ACCOUNT      667547.0  2016-01-21 00:00:00  \n",
       "1634      PRUDENTIAL ISA        6740.0  2009-07-20 00:00:00  \n",
       "\n",
       "[1635 rows x 13 columns]"
      ]
     },
     "execution_count": 26,
     "metadata": {},
     "output_type": "execute_result"
    }
   ],
   "source": [
    "new_email_df"
   ]
  },
  {
   "cell_type": "code",
   "execution_count": 29,
   "metadata": {},
   "outputs": [
    {
     "data": {
      "text/html": [
       "<div>\n",
       "<style scoped>\n",
       "    .dataframe tbody tr th:only-of-type {\n",
       "        vertical-align: middle;\n",
       "    }\n",
       "\n",
       "    .dataframe tbody tr th {\n",
       "        vertical-align: top;\n",
       "    }\n",
       "\n",
       "    .dataframe thead th {\n",
       "        text-align: right;\n",
       "    }\n",
       "</style>\n",
       "<table border=\"1\" class=\"dataframe\">\n",
       "  <thead>\n",
       "    <tr style=\"text-align: right;\">\n",
       "      <th></th>\n",
       "      <th>index_x</th>\n",
       "      <th>Customer ID</th>\n",
       "      <th>Email</th>\n",
       "      <th>Gender</th>\n",
       "      <th>Age</th>\n",
       "      <th>Postcode</th>\n",
       "      <th>is_valid_email</th>\n",
       "      <th>index_y</th>\n",
       "      <th>Policy Number</th>\n",
       "      <th>Product Category</th>\n",
       "      <th>Product Name</th>\n",
       "      <th>Policy Value</th>\n",
       "      <th>Policy Start Date</th>\n",
       "      <th>quantile_policy</th>\n",
       "    </tr>\n",
       "  </thead>\n",
       "  <tbody>\n",
       "    <tr>\n",
       "      <th>0</th>\n",
       "      <td>0</td>\n",
       "      <td>CO183683</td>\n",
       "      <td>NLUPPITT14@PARALLELS.COM</td>\n",
       "      <td>Male</td>\n",
       "      <td>90</td>\n",
       "      <td>None</td>\n",
       "      <td>True</td>\n",
       "      <td>661</td>\n",
       "      <td>RET100041</td>\n",
       "      <td>RETIREMENT</td>\n",
       "      <td>RETIREMENT ACCOUNT</td>\n",
       "      <td>744154.0</td>\n",
       "      <td>2017-12-27 00:00:00</td>\n",
       "      <td>(509182.0, 758597.0]</td>\n",
       "    </tr>\n",
       "    <tr>\n",
       "      <th>1</th>\n",
       "      <td>1</td>\n",
       "      <td>CO314757</td>\n",
       "      <td>Empty</td>\n",
       "      <td>Female</td>\n",
       "      <td>90</td>\n",
       "      <td>None</td>\n",
       "      <td>False</td>\n",
       "      <td>563</td>\n",
       "      <td>RET100125</td>\n",
       "      <td>RETIREMENT</td>\n",
       "      <td>RETIREMENT ACCOUNT</td>\n",
       "      <td>192389.0</td>\n",
       "      <td>2017-09-16 00:00:00</td>\n",
       "      <td>(9620.0, 243996.0]</td>\n",
       "    </tr>\n",
       "    <tr>\n",
       "      <th>2</th>\n",
       "      <td>1</td>\n",
       "      <td>CO314757</td>\n",
       "      <td>Empty</td>\n",
       "      <td>Female</td>\n",
       "      <td>90</td>\n",
       "      <td>None</td>\n",
       "      <td>False</td>\n",
       "      <td>1562</td>\n",
       "      <td>ANN3661</td>\n",
       "      <td>ANNUITY</td>\n",
       "      <td>STANDARD ANNUITY</td>\n",
       "      <td>NaN</td>\n",
       "      <td>2013-05-21 00:00:00</td>\n",
       "      <td>NaN</td>\n",
       "    </tr>\n",
       "    <tr>\n",
       "      <th>3</th>\n",
       "      <td>2</td>\n",
       "      <td>CO720602</td>\n",
       "      <td>Empty</td>\n",
       "      <td>Female</td>\n",
       "      <td>90</td>\n",
       "      <td>None</td>\n",
       "      <td>False</td>\n",
       "      <td>875</td>\n",
       "      <td>RET100188</td>\n",
       "      <td>RETIREMENT</td>\n",
       "      <td>RETIREMENT ACCOUNT</td>\n",
       "      <td>904394.0</td>\n",
       "      <td>2018-08-11 00:00:00</td>\n",
       "      <td>(758597.0, 999674.0]</td>\n",
       "    </tr>\n",
       "    <tr>\n",
       "      <th>4</th>\n",
       "      <td>3</td>\n",
       "      <td>CO34804</td>\n",
       "      <td>Empty</td>\n",
       "      <td>Female</td>\n",
       "      <td>90</td>\n",
       "      <td>1495-701</td>\n",
       "      <td>False</td>\n",
       "      <td>518</td>\n",
       "      <td>RET100566</td>\n",
       "      <td>RETIREMENT</td>\n",
       "      <td>RETIREMENT ACCOUNT</td>\n",
       "      <td>805735.0</td>\n",
       "      <td>2017-07-17 00:00:00</td>\n",
       "      <td>(758597.0, 999674.0]</td>\n",
       "    </tr>\n",
       "  </tbody>\n",
       "</table>\n",
       "</div>"
      ],
      "text/plain": [
       "   index_x Customer ID                     Email  Gender  Age  Postcode  \\\n",
       "0        0    CO183683  NLUPPITT14@PARALLELS.COM    Male   90      None   \n",
       "1        1    CO314757                     Empty  Female   90      None   \n",
       "2        1    CO314757                     Empty  Female   90      None   \n",
       "3        2    CO720602                     Empty  Female   90      None   \n",
       "4        3     CO34804                     Empty  Female   90  1495-701   \n",
       "\n",
       "   is_valid_email  index_y Policy Number Product Category        Product Name  \\\n",
       "0            True      661     RET100041       RETIREMENT  RETIREMENT ACCOUNT   \n",
       "1           False      563     RET100125       RETIREMENT  RETIREMENT ACCOUNT   \n",
       "2           False     1562       ANN3661          ANNUITY    STANDARD ANNUITY   \n",
       "3           False      875     RET100188       RETIREMENT  RETIREMENT ACCOUNT   \n",
       "4           False      518     RET100566       RETIREMENT  RETIREMENT ACCOUNT   \n",
       "\n",
       "   Policy Value    Policy Start Date       quantile_policy  \n",
       "0      744154.0  2017-12-27 00:00:00  (509182.0, 758597.0]  \n",
       "1      192389.0  2017-09-16 00:00:00    (9620.0, 243996.0]  \n",
       "2           NaN  2013-05-21 00:00:00                   NaN  \n",
       "3      904394.0  2018-08-11 00:00:00  (758597.0, 999674.0]  \n",
       "4      805735.0  2017-07-17 00:00:00  (758597.0, 999674.0]  "
      ]
     },
     "execution_count": 29,
     "metadata": {},
     "output_type": "execute_result"
    }
   ],
   "source": [
    "new_email_df['quantile_policy'] = pd.qcut(new_email_df['Policy Value'], q=6,precision = 0)\n",
    "new_email_df.head()\n",
    "                   "
   ]
  },
  {
   "cell_type": "code",
   "execution_count": 33,
   "metadata": {},
   "outputs": [],
   "source": [
    "import seaborn as sns\n",
    "import matplotlib.pyplot as plt\n"
   ]
  },
  {
   "cell_type": "code",
   "execution_count": 34,
   "metadata": {},
   "outputs": [
    {
     "data": {
      "image/png": "[encoded data removed]",
      "text/plain": [
       "<Figure size 432x288 with 1 Axes>"
      ]
     },
     "metadata": {
      "needs_background": "light"
     },
     "output_type": "display_data"
    }
   ],
   "source": [
    "sns.barplot(data=new_email_df,x='is_valid_email',y='Policy Value',estimator=np.mean)\n",
    "plt.show()"
   ]
  },
  {
   "cell_type": "code",
   "execution_count": 35,
   "metadata": {},
   "outputs": [
    {
     "data": {
      "image/png": "[encoded data removed]",
      "text/plain": [
       "<Figure size 432x288 with 1 Axes>"
      ]
     },
     "metadata": {
      "needs_background": "light"
     },
     "output_type": "display_data"
    }
   ],
   "source": [
    "sns.barplot(data=new_email_df,x='is_valid_email',y='Product Category')\n",
    "plt.show()"
   ]
  },
  {
   "cell_type": "markdown",
   "metadata": {
    "run_control": {
     "marked": true
    }
   },
   "source": [
    "#Insert your answer below: \n"
   ]
  },
  {
   "cell_type": "markdown",
   "metadata": {
    "run_control": {
     "marked": true
    }
   },
   "source": [
    "## Q5: The Managing Director of Pru Wealth needs to see how policy value differs between other variables in the database (e.g. customer demographics) . They don't have time to read a report, so have asked for a cool visualisation that tells a story.\n",
    "\n",
    "Visualise something cool, tell us a story! You can use packages like Matplotlib, Seaborn or Plotly.Tell us why you chose to visualise the data in this way and how it can be used from a business perspective.\n"
   ]
  },
  {
   "cell_type": "code",
   "execution_count": 36,
   "metadata": {
    "run_control": {
     "marked": true
    }
   },
   "outputs": [],
   "source": [
    "# Insert your answer below: \n",
    "\n",
    "import warnings\n",
    "\n",
    "warnings.filterwarnings('ignore')\n"
   ]
  },
  {
   "cell_type": "code",
   "execution_count": 37,
   "metadata": {},
   "outputs": [],
   "source": [
    "import matplotlib.pyplot as plt\n",
    "import seaborn as sns\n",
    "import pandas as pd\n",
    "import numpy as np"
   ]
  },
  {
   "cell_type": "code",
   "execution_count": 38,
   "metadata": {},
   "outputs": [
    {
     "data": {
      "text/plain": [
       "pandas.core.frame.DataFrame"
      ]
     },
     "execution_count": 38,
     "metadata": {},
     "output_type": "execute_result"
    }
   ],
   "source": [
    "type(Customer_Table)"
   ]
  },
  {
   "cell_type": "code",
   "execution_count": 39,
   "metadata": {},
   "outputs": [
    {
     "data": {
      "text/html": [
       "<div>\n",
       "<style scoped>\n",
       "    .dataframe tbody tr th:only-of-type {\n",
       "        vertical-align: middle;\n",
       "    }\n",
       "\n",
       "    .dataframe tbody tr th {\n",
       "        vertical-align: top;\n",
       "    }\n",
       "\n",
       "    .dataframe thead th {\n",
       "        text-align: right;\n",
       "    }\n",
       "</style>\n",
       "<table border=\"1\" class=\"dataframe\">\n",
       "  <thead>\n",
       "    <tr style=\"text-align: right;\">\n",
       "      <th></th>\n",
       "      <th>index</th>\n",
       "      <th>Customer ID</th>\n",
       "      <th>Email</th>\n",
       "      <th>Gender</th>\n",
       "      <th>Age</th>\n",
       "      <th>Postcode</th>\n",
       "      <th>is_valid_email</th>\n",
       "    </tr>\n",
       "  </thead>\n",
       "  <tbody>\n",
       "    <tr>\n",
       "      <th>0</th>\n",
       "      <td>0</td>\n",
       "      <td>CO183683</td>\n",
       "      <td>NLUPPITT14@PARALLELS.COM</td>\n",
       "      <td>Male</td>\n",
       "      <td>90</td>\n",
       "      <td>None</td>\n",
       "      <td>True</td>\n",
       "    </tr>\n",
       "    <tr>\n",
       "      <th>1</th>\n",
       "      <td>1</td>\n",
       "      <td>CO314757</td>\n",
       "      <td>Empty</td>\n",
       "      <td>Female</td>\n",
       "      <td>90</td>\n",
       "      <td>None</td>\n",
       "      <td>False</td>\n",
       "    </tr>\n",
       "    <tr>\n",
       "      <th>2</th>\n",
       "      <td>2</td>\n",
       "      <td>CO720602</td>\n",
       "      <td>Empty</td>\n",
       "      <td>Female</td>\n",
       "      <td>90</td>\n",
       "      <td>None</td>\n",
       "      <td>False</td>\n",
       "    </tr>\n",
       "    <tr>\n",
       "      <th>3</th>\n",
       "      <td>3</td>\n",
       "      <td>CO34804</td>\n",
       "      <td>Empty</td>\n",
       "      <td>Female</td>\n",
       "      <td>90</td>\n",
       "      <td>1495-701</td>\n",
       "      <td>False</td>\n",
       "    </tr>\n",
       "    <tr>\n",
       "      <th>4</th>\n",
       "      <td>4</td>\n",
       "      <td>CO474411</td>\n",
       "      <td>Empty</td>\n",
       "      <td>Male</td>\n",
       "      <td>90</td>\n",
       "      <td>301288</td>\n",
       "      <td>False</td>\n",
       "    </tr>\n",
       "  </tbody>\n",
       "</table>\n",
       "</div>"
      ],
      "text/plain": [
       "   index Customer ID                     Email  Gender  Age  Postcode  \\\n",
       "0      0    CO183683  NLUPPITT14@PARALLELS.COM    Male   90      None   \n",
       "1      1    CO314757                     Empty  Female   90      None   \n",
       "2      2    CO720602                     Empty  Female   90      None   \n",
       "3      3     CO34804                     Empty  Female   90  1495-701   \n",
       "4      4    CO474411                     Empty    Male   90    301288   \n",
       "\n",
       "   is_valid_email  \n",
       "0            True  \n",
       "1           False  \n",
       "2           False  \n",
       "3           False  \n",
       "4           False  "
      ]
     },
     "execution_count": 39,
     "metadata": {},
     "output_type": "execute_result"
    }
   ],
   "source": [
    "Customer_Table.head()"
   ]
  },
  {
   "cell_type": "code",
   "execution_count": 40,
   "metadata": {},
   "outputs": [
    {
     "name": "stdout",
     "output_type": "stream",
     "text": [
      "<class 'pandas.core.frame.DataFrame'>\n",
      "RangeIndex: 999 entries, 0 to 998\n",
      "Data columns (total 7 columns):\n",
      " #   Column          Non-Null Count  Dtype \n",
      "---  ------          --------------  ----- \n",
      " 0   index           999 non-null    int64 \n",
      " 1   Customer ID     999 non-null    object\n",
      " 2   Email           999 non-null    object\n",
      " 3   Gender          999 non-null    object\n",
      " 4   Age             999 non-null    int64 \n",
      " 5   Postcode        461 non-null    object\n",
      " 6   is_valid_email  999 non-null    bool  \n",
      "dtypes: bool(1), int64(2), object(4)\n",
      "memory usage: 47.9+ KB\n"
     ]
    }
   ],
   "source": [
    "Customer_Table.info()"
   ]
  },
  {
   "cell_type": "code",
   "execution_count": 41,
   "metadata": {},
   "outputs": [
    {
     "data": {
      "text/plain": [
       "Index(['index', 'Customer ID', 'Email', 'Gender', 'Age', 'Postcode',\n",
       "       'is_valid_email'],\n",
       "      dtype='object')"
      ]
     },
     "execution_count": 41,
     "metadata": {},
     "output_type": "execute_result"
    }
   ],
   "source": [
    "Customer_Table.columns"
   ]
  },
  {
   "cell_type": "code",
   "execution_count": 42,
   "metadata": {},
   "outputs": [
    {
     "data": {
      "text/plain": [
       "0"
      ]
     },
     "execution_count": 42,
     "metadata": {},
     "output_type": "execute_result"
    }
   ],
   "source": [
    "Customer_Table['Gender'].value_counts().isnull().sum()"
   ]
  },
  {
   "cell_type": "code",
   "execution_count": 43,
   "metadata": {},
   "outputs": [
    {
     "data": {
      "text/plain": [
       "Male      509\n",
       "Female    490\n",
       "Name: Gender, dtype: int64"
      ]
     },
     "execution_count": 43,
     "metadata": {},
     "output_type": "execute_result"
    }
   ],
   "source": [
    "Customer_Table['Gender'].value_counts()"
   ]
  },
  {
   "cell_type": "code",
   "execution_count": 44,
   "metadata": {},
   "outputs": [
    {
     "data": {
      "image/png": "[encoded data removed]",
      "text/plain": [
       "<Figure size 432x288 with 1 Axes>"
      ]
     },
     "metadata": {
      "needs_background": "light"
     },
     "output_type": "display_data"
    }
   ],
   "source": [
    "Customer_Table['Gender'].value_counts().plot.barh()\n",
    "plt.show()"
   ]
  },
  {
   "cell_type": "markdown",
   "metadata": {},
   "source": [
    "1. From the above graph we can infer that approximately equal participation can be seen from both genders (Male and Female) \n",
    "   involved for the policies for the products availble with Prudential_data.\n",
    "   Thus Taking a policy is not gender specific can be concluded."
   ]
  },
  {
   "cell_type": "code",
   "execution_count": 45,
   "metadata": {},
   "outputs": [
    {
     "data": {
      "text/plain": [
       "0"
      ]
     },
     "execution_count": 45,
     "metadata": {},
     "output_type": "execute_result"
    }
   ],
   "source": [
    "Customer_Table['Age'].value_counts().isnull().sum()"
   ]
  },
  {
   "cell_type": "code",
   "execution_count": 46,
   "metadata": {},
   "outputs": [
    {
     "data": {
      "image/png": "[encoded data removed]",
      "text/plain": [
       "<Figure size 432x288 with 1 Axes>"
      ]
     },
     "metadata": {
      "needs_background": "light"
     },
     "output_type": "display_data"
    }
   ],
   "source": [
    "Customer_Table['Age'].plot.box()\n",
    "plt.show()"
   ]
  },
  {
   "cell_type": "markdown",
   "metadata": {},
   "source": [
    "1. Here we can see there are no outliers in the Age.\n",
    "2. 25-75 % of the people lie in the age group of (50-75) -- Thus mostly Senior Citizens invest more."
   ]
  },
  {
   "cell_type": "code",
   "execution_count": 47,
   "metadata": {},
   "outputs": [
    {
     "data": {
      "text/plain": [
       "65    124\n",
       "64     60\n",
       "60     50\n",
       "53     45\n",
       "70     37\n",
       "58     34\n",
       "42     33\n",
       "49     30\n",
       "71     30\n",
       "62     28\n",
       "67     27\n",
       "75     21\n",
       "61     21\n",
       "84     20\n",
       "56     20\n",
       "74     19\n",
       "88     19\n",
       "77     19\n",
       "87     19\n",
       "80     18\n",
       "69     18\n",
       "82     16\n",
       "86     15\n",
       "48     14\n",
       "68     14\n",
       "52     14\n",
       "44     14\n",
       "76     14\n",
       "50     12\n",
       "57     12\n",
       "63     11\n",
       "85     11\n",
       "51     10\n",
       "59     10\n",
       "73     10\n",
       "81     10\n",
       "43      9\n",
       "46      9\n",
       "47      9\n",
       "40      8\n",
       "37      8\n",
       "32      8\n",
       "30      8\n",
       "83      8\n",
       "90      7\n",
       "55      6\n",
       "78      6\n",
       "45      5\n",
       "33      5\n",
       "89      5\n",
       "22      2\n",
       "27      2\n",
       "28      2\n",
       "34      2\n",
       "54      2\n",
       "38      2\n",
       "66      2\n",
       "72      1\n",
       "79      1\n",
       "24      1\n",
       "41      1\n",
       "20      1\n",
       "Name: Age, dtype: int64"
      ]
     },
     "execution_count": 47,
     "metadata": {},
     "output_type": "execute_result"
    }
   ],
   "source": [
    "(Customer_Table['Age'].value_counts())"
   ]
  },
  {
   "cell_type": "code",
   "execution_count": 48,
   "metadata": {},
   "outputs": [
    {
     "data": {
      "image/png": "[encoded data removed]",
      "text/plain": [
       "<Figure size 720x720 with 1 Axes>"
      ]
     },
     "metadata": {
      "needs_background": "light"
     },
     "output_type": "display_data"
    }
   ],
   "source": [
    "plt.figure(figsize= [10,10])\n",
    "(Customer_Table['Age'].value_counts()).plot.bar()\n",
    "plt.xlabel('Age_value')\n",
    "plt.ylabel('Count_of_number_of_people_of_age')\n",
    "plt.show()"
   ]
  },
  {
   "cell_type": "markdown",
   "metadata": {},
   "source": [
    "1. From above plot it can be inferred that maximum people who invested are of age 65"
   ]
  },
  {
   "cell_type": "code",
   "execution_count": 49,
   "metadata": {},
   "outputs": [],
   "source": [
    "## lets bin the ages:\n",
    "\n",
    "bins = [0,25,50,75,100]\n",
    "slots = ['0-25', '25-50','50-75','75-100']\n",
    "\n",
    "Customer_Table['Age_group']=pd.cut(Customer_Table['Age'],bins=bins,labels=slots)"
   ]
  },
  {
   "cell_type": "code",
   "execution_count": 50,
   "metadata": {},
   "outputs": [
    {
     "data": {
      "image/png": "[encoded data removed]",
      "text/plain": [
       "<Figure size 432x288 with 1 Axes>"
      ]
     },
     "metadata": {
      "needs_background": "light"
     },
     "output_type": "display_data"
    }
   ],
   "source": [
    "Customer_Table['Age_group'].value_counts().plot.bar()\n",
    "plt.xlabel('Age group')\n",
    "plt.ylabel('count of people in that range')\n",
    "\n",
    "plt.show()"
   ]
  },
  {
   "cell_type": "markdown",
   "metadata": {},
   "source": [
    "1. From above graph it can be concluded that people in age group 0-25 invest least in the long term ploicies."
   ]
  },
  {
   "cell_type": "code",
   "execution_count": 51,
   "metadata": {},
   "outputs": [
    {
     "data": {
      "text/html": [
       "<div>\n",
       "<style scoped>\n",
       "    .dataframe tbody tr th:only-of-type {\n",
       "        vertical-align: middle;\n",
       "    }\n",
       "\n",
       "    .dataframe tbody tr th {\n",
       "        vertical-align: top;\n",
       "    }\n",
       "\n",
       "    .dataframe thead th {\n",
       "        text-align: right;\n",
       "    }\n",
       "</style>\n",
       "<table border=\"1\" class=\"dataframe\">\n",
       "  <thead>\n",
       "    <tr style=\"text-align: right;\">\n",
       "      <th></th>\n",
       "      <th>index</th>\n",
       "      <th>Customer ID</th>\n",
       "      <th>Email</th>\n",
       "      <th>Gender</th>\n",
       "      <th>Age</th>\n",
       "      <th>Postcode</th>\n",
       "      <th>is_valid_email</th>\n",
       "      <th>Age_group</th>\n",
       "    </tr>\n",
       "  </thead>\n",
       "  <tbody>\n",
       "    <tr>\n",
       "      <th>0</th>\n",
       "      <td>0</td>\n",
       "      <td>CO183683</td>\n",
       "      <td>NLUPPITT14@PARALLELS.COM</td>\n",
       "      <td>Male</td>\n",
       "      <td>90</td>\n",
       "      <td>None</td>\n",
       "      <td>True</td>\n",
       "      <td>75-100</td>\n",
       "    </tr>\n",
       "    <tr>\n",
       "      <th>1</th>\n",
       "      <td>1</td>\n",
       "      <td>CO314757</td>\n",
       "      <td>Empty</td>\n",
       "      <td>Female</td>\n",
       "      <td>90</td>\n",
       "      <td>None</td>\n",
       "      <td>False</td>\n",
       "      <td>75-100</td>\n",
       "    </tr>\n",
       "    <tr>\n",
       "      <th>2</th>\n",
       "      <td>2</td>\n",
       "      <td>CO720602</td>\n",
       "      <td>Empty</td>\n",
       "      <td>Female</td>\n",
       "      <td>90</td>\n",
       "      <td>None</td>\n",
       "      <td>False</td>\n",
       "      <td>75-100</td>\n",
       "    </tr>\n",
       "    <tr>\n",
       "      <th>3</th>\n",
       "      <td>3</td>\n",
       "      <td>CO34804</td>\n",
       "      <td>Empty</td>\n",
       "      <td>Female</td>\n",
       "      <td>90</td>\n",
       "      <td>1495-701</td>\n",
       "      <td>False</td>\n",
       "      <td>75-100</td>\n",
       "    </tr>\n",
       "    <tr>\n",
       "      <th>4</th>\n",
       "      <td>4</td>\n",
       "      <td>CO474411</td>\n",
       "      <td>Empty</td>\n",
       "      <td>Male</td>\n",
       "      <td>90</td>\n",
       "      <td>301288</td>\n",
       "      <td>False</td>\n",
       "      <td>75-100</td>\n",
       "    </tr>\n",
       "  </tbody>\n",
       "</table>\n",
       "</div>"
      ],
      "text/plain": [
       "   index Customer ID                     Email  Gender  Age  Postcode  \\\n",
       "0      0    CO183683  NLUPPITT14@PARALLELS.COM    Male   90      None   \n",
       "1      1    CO314757                     Empty  Female   90      None   \n",
       "2      2    CO720602                     Empty  Female   90      None   \n",
       "3      3     CO34804                     Empty  Female   90  1495-701   \n",
       "4      4    CO474411                     Empty    Male   90    301288   \n",
       "\n",
       "   is_valid_email Age_group  \n",
       "0            True    75-100  \n",
       "1           False    75-100  \n",
       "2           False    75-100  \n",
       "3           False    75-100  \n",
       "4           False    75-100  "
      ]
     },
     "execution_count": 51,
     "metadata": {},
     "output_type": "execute_result"
    }
   ],
   "source": [
    "Customer_Table.head()"
   ]
  },
  {
   "cell_type": "code",
   "execution_count": 52,
   "metadata": {},
   "outputs": [
    {
     "data": {
      "text/plain": [
       "70826       2\n",
       "1814        2\n",
       "87426       2\n",
       "2600        2\n",
       "1715        2\n",
       "           ..\n",
       "3005        1\n",
       "2389        1\n",
       "4650-071    1\n",
       "38-116      1\n",
       "14-210      1\n",
       "Name: Postcode, Length: 455, dtype: int64"
      ]
     },
     "execution_count": 52,
     "metadata": {},
     "output_type": "execute_result"
    }
   ],
   "source": [
    "Customer_Table['Postcode'].value_counts()"
   ]
  },
  {
   "cell_type": "code",
   "execution_count": 53,
   "metadata": {},
   "outputs": [
    {
     "data": {
      "text/plain": [
       "0"
      ]
     },
     "execution_count": 53,
     "metadata": {},
     "output_type": "execute_result"
    }
   ],
   "source": [
    "Customer_Table['Postcode'].value_counts().isnull().sum()"
   ]
  },
  {
   "cell_type": "code",
   "execution_count": 54,
   "metadata": {},
   "outputs": [
    {
     "name": "stdout",
     "output_type": "stream",
     "text": [
      "<class 'pandas.core.frame.DataFrame'>\n",
      "RangeIndex: 1635 entries, 0 to 1634\n",
      "Data columns (total 7 columns):\n",
      " #   Column             Non-Null Count  Dtype  \n",
      "---  ------             --------------  -----  \n",
      " 0   index              1635 non-null   int64  \n",
      " 1   Policy Number      1635 non-null   object \n",
      " 2   Customer ID        1635 non-null   object \n",
      " 3   Product Category   1635 non-null   object \n",
      " 4   Product Name       1635 non-null   object \n",
      " 5   Policy Value       1513 non-null   float64\n",
      " 6   Policy Start Date  1635 non-null   object \n",
      "dtypes: float64(1), int64(1), object(5)\n",
      "memory usage: 89.5+ KB\n"
     ]
    }
   ],
   "source": [
    "Policy_Table.info()"
   ]
  },
  {
   "cell_type": "code",
   "execution_count": 55,
   "metadata": {},
   "outputs": [],
   "source": [
    "## To analyse how customer demographics affects the policies taken by people we need to merge the two dataframes: \n",
    "\n",
    "new_df = Customer_Table.merge(Policy_Table, on = \"Customer ID\", how=\"inner\")"
   ]
  },
  {
   "cell_type": "code",
   "execution_count": 56,
   "metadata": {},
   "outputs": [
    {
     "data": {
      "text/html": [
       "<div>\n",
       "<style scoped>\n",
       "    .dataframe tbody tr th:only-of-type {\n",
       "        vertical-align: middle;\n",
       "    }\n",
       "\n",
       "    .dataframe tbody tr th {\n",
       "        vertical-align: top;\n",
       "    }\n",
       "\n",
       "    .dataframe thead th {\n",
       "        text-align: right;\n",
       "    }\n",
       "</style>\n",
       "<table border=\"1\" class=\"dataframe\">\n",
       "  <thead>\n",
       "    <tr style=\"text-align: right;\">\n",
       "      <th></th>\n",
       "      <th>index_x</th>\n",
       "      <th>Customer ID</th>\n",
       "      <th>Email</th>\n",
       "      <th>Gender</th>\n",
       "      <th>Age</th>\n",
       "      <th>Postcode</th>\n",
       "      <th>is_valid_email</th>\n",
       "      <th>Age_group</th>\n",
       "      <th>index_y</th>\n",
       "      <th>Policy Number</th>\n",
       "      <th>Product Category</th>\n",
       "      <th>Product Name</th>\n",
       "      <th>Policy Value</th>\n",
       "      <th>Policy Start Date</th>\n",
       "    </tr>\n",
       "  </thead>\n",
       "  <tbody>\n",
       "    <tr>\n",
       "      <th>0</th>\n",
       "      <td>0</td>\n",
       "      <td>CO183683</td>\n",
       "      <td>NLUPPITT14@PARALLELS.COM</td>\n",
       "      <td>Male</td>\n",
       "      <td>90</td>\n",
       "      <td>None</td>\n",
       "      <td>True</td>\n",
       "      <td>75-100</td>\n",
       "      <td>661</td>\n",
       "      <td>RET100041</td>\n",
       "      <td>RETIREMENT</td>\n",
       "      <td>RETIREMENT ACCOUNT</td>\n",
       "      <td>744154.0</td>\n",
       "      <td>2017-12-27 00:00:00</td>\n",
       "    </tr>\n",
       "    <tr>\n",
       "      <th>1</th>\n",
       "      <td>1</td>\n",
       "      <td>CO314757</td>\n",
       "      <td>Empty</td>\n",
       "      <td>Female</td>\n",
       "      <td>90</td>\n",
       "      <td>None</td>\n",
       "      <td>False</td>\n",
       "      <td>75-100</td>\n",
       "      <td>563</td>\n",
       "      <td>RET100125</td>\n",
       "      <td>RETIREMENT</td>\n",
       "      <td>RETIREMENT ACCOUNT</td>\n",
       "      <td>192389.0</td>\n",
       "      <td>2017-09-16 00:00:00</td>\n",
       "    </tr>\n",
       "    <tr>\n",
       "      <th>2</th>\n",
       "      <td>1</td>\n",
       "      <td>CO314757</td>\n",
       "      <td>Empty</td>\n",
       "      <td>Female</td>\n",
       "      <td>90</td>\n",
       "      <td>None</td>\n",
       "      <td>False</td>\n",
       "      <td>75-100</td>\n",
       "      <td>1562</td>\n",
       "      <td>ANN3661</td>\n",
       "      <td>ANNUITY</td>\n",
       "      <td>STANDARD ANNUITY</td>\n",
       "      <td>NaN</td>\n",
       "      <td>2013-05-21 00:00:00</td>\n",
       "    </tr>\n",
       "    <tr>\n",
       "      <th>3</th>\n",
       "      <td>2</td>\n",
       "      <td>CO720602</td>\n",
       "      <td>Empty</td>\n",
       "      <td>Female</td>\n",
       "      <td>90</td>\n",
       "      <td>None</td>\n",
       "      <td>False</td>\n",
       "      <td>75-100</td>\n",
       "      <td>875</td>\n",
       "      <td>RET100188</td>\n",
       "      <td>RETIREMENT</td>\n",
       "      <td>RETIREMENT ACCOUNT</td>\n",
       "      <td>904394.0</td>\n",
       "      <td>2018-08-11 00:00:00</td>\n",
       "    </tr>\n",
       "    <tr>\n",
       "      <th>4</th>\n",
       "      <td>3</td>\n",
       "      <td>CO34804</td>\n",
       "      <td>Empty</td>\n",
       "      <td>Female</td>\n",
       "      <td>90</td>\n",
       "      <td>1495-701</td>\n",
       "      <td>False</td>\n",
       "      <td>75-100</td>\n",
       "      <td>518</td>\n",
       "      <td>RET100566</td>\n",
       "      <td>RETIREMENT</td>\n",
       "      <td>RETIREMENT ACCOUNT</td>\n",
       "      <td>805735.0</td>\n",
       "      <td>2017-07-17 00:00:00</td>\n",
       "    </tr>\n",
       "  </tbody>\n",
       "</table>\n",
       "</div>"
      ],
      "text/plain": [
       "   index_x Customer ID                     Email  Gender  Age  Postcode  \\\n",
       "0        0    CO183683  NLUPPITT14@PARALLELS.COM    Male   90      None   \n",
       "1        1    CO314757                     Empty  Female   90      None   \n",
       "2        1    CO314757                     Empty  Female   90      None   \n",
       "3        2    CO720602                     Empty  Female   90      None   \n",
       "4        3     CO34804                     Empty  Female   90  1495-701   \n",
       "\n",
       "   is_valid_email Age_group  index_y Policy Number Product Category  \\\n",
       "0            True    75-100      661     RET100041       RETIREMENT   \n",
       "1           False    75-100      563     RET100125       RETIREMENT   \n",
       "2           False    75-100     1562       ANN3661          ANNUITY   \n",
       "3           False    75-100      875     RET100188       RETIREMENT   \n",
       "4           False    75-100      518     RET100566       RETIREMENT   \n",
       "\n",
       "         Product Name  Policy Value    Policy Start Date  \n",
       "0  RETIREMENT ACCOUNT      744154.0  2017-12-27 00:00:00  \n",
       "1  RETIREMENT ACCOUNT      192389.0  2017-09-16 00:00:00  \n",
       "2    STANDARD ANNUITY           NaN  2013-05-21 00:00:00  \n",
       "3  RETIREMENT ACCOUNT      904394.0  2018-08-11 00:00:00  \n",
       "4  RETIREMENT ACCOUNT      805735.0  2017-07-17 00:00:00  "
      ]
     },
     "execution_count": 56,
     "metadata": {},
     "output_type": "execute_result"
    }
   ],
   "source": [
    "new_df.head()"
   ]
  },
  {
   "cell_type": "code",
   "execution_count": 57,
   "metadata": {},
   "outputs": [
    {
     "data": {
      "text/plain": [
       "0"
      ]
     },
     "execution_count": 57,
     "metadata": {},
     "output_type": "execute_result"
    }
   ],
   "source": [
    "new_df['Product Name'].isnull().sum()"
   ]
  },
  {
   "cell_type": "code",
   "execution_count": 58,
   "metadata": {},
   "outputs": [
    {
     "data": {
      "text/plain": [
       "122"
      ]
     },
     "execution_count": 58,
     "metadata": {},
     "output_type": "execute_result"
    }
   ],
   "source": [
    "new_df['Policy Value'].isnull().sum()"
   ]
  },
  {
   "cell_type": "code",
   "execution_count": 59,
   "metadata": {},
   "outputs": [
    {
     "data": {
      "image/png": "[encoded data removed]",
      "text/plain": [
       "<Figure size 432x288 with 1 Axes>"
      ]
     },
     "metadata": {
      "needs_background": "light"
     },
     "output_type": "display_data"
    }
   ],
   "source": [
    "# Comapring Numerical and Categorical columns i.e Policy Value Vs Product category \n",
    "\n",
    "sns.barplot(data=new_df,x='Product Category',y='Policy Value',estimator=np.mean)\n",
    "plt.show()"
   ]
  },
  {
   "cell_type": "markdown",
   "metadata": {},
   "source": [
    "1. From Above graph we can conclude Product Category : \"RETIREMENT\" has maximum current policy value \n",
    "2. No values for Category \" ANNUITY\"\n",
    "3. The other categories are having minimum values for the cuurent policy average."
   ]
  },
  {
   "cell_type": "code",
   "execution_count": 60,
   "metadata": {},
   "outputs": [
    {
     "name": "stdout",
     "output_type": "stream",
     "text": [
      "<class 'pandas.core.frame.DataFrame'>\n",
      "Int64Index: 1635 entries, 0 to 1634\n",
      "Data columns (total 14 columns):\n",
      " #   Column             Non-Null Count  Dtype   \n",
      "---  ------             --------------  -----   \n",
      " 0   index_x            1635 non-null   int64   \n",
      " 1   Customer ID        1635 non-null   object  \n",
      " 2   Email              1635 non-null   object  \n",
      " 3   Gender             1635 non-null   object  \n",
      " 4   Age                1635 non-null   int64   \n",
      " 5   Postcode           755 non-null    object  \n",
      " 6   is_valid_email     1635 non-null   bool    \n",
      " 7   Age_group          1635 non-null   category\n",
      " 8   index_y            1635 non-null   int64   \n",
      " 9   Policy Number      1635 non-null   object  \n",
      " 10  Product Category   1635 non-null   object  \n",
      " 11  Product Name       1635 non-null   object  \n",
      " 12  Policy Value       1513 non-null   float64 \n",
      " 13  Policy Start Date  1635 non-null   object  \n",
      "dtypes: bool(1), category(1), float64(1), int64(3), object(8)\n",
      "memory usage: 249.4+ KB\n"
     ]
    }
   ],
   "source": [
    "new_df.info()"
   ]
  },
  {
   "cell_type": "code",
   "execution_count": 61,
   "metadata": {},
   "outputs": [
    {
     "data": {
      "text/plain": [
       "index_x                0\n",
       "Customer ID            0\n",
       "Email                  0\n",
       "Gender                 0\n",
       "Age                    0\n",
       "Postcode             880\n",
       "is_valid_email         0\n",
       "Age_group              0\n",
       "index_y                0\n",
       "Policy Number          0\n",
       "Product Category       0\n",
       "Product Name           0\n",
       "Policy Value         122\n",
       "Policy Start Date      0\n",
       "dtype: int64"
      ]
     },
     "execution_count": 61,
     "metadata": {},
     "output_type": "execute_result"
    }
   ],
   "source": [
    "new_df.isnull().sum()"
   ]
  },
  {
   "cell_type": "code",
   "execution_count": 62,
   "metadata": {},
   "outputs": [
    {
     "data": {
      "text/plain": [
       "(1635, 14)"
      ]
     },
     "execution_count": 62,
     "metadata": {},
     "output_type": "execute_result"
    }
   ],
   "source": [
    "new_df.shape"
   ]
  },
  {
   "cell_type": "markdown",
   "metadata": {},
   "source": [
    "1. Column \"Postcode\" is having 880 Nulls out of total 1635 values thus imputing this is not a good option , hence not anaysing\n",
    "   on the basis of this column, also no more information is available related to geographies associated to these Postal codes.\n",
    "    880/1635 = 53.8 % which is accounting to more than half of the values availble."
   ]
  },
  {
   "cell_type": "code",
   "execution_count": 63,
   "metadata": {},
   "outputs": [
    {
     "data": {
      "image/png": "[encoded data removed]",
      "text/plain": [
       "<Figure size 720x720 with 1 Axes>"
      ]
     },
     "metadata": {
      "needs_background": "light"
     },
     "output_type": "display_data"
    }
   ],
   "source": [
    "plt.figure(figsize=[10,10])\n",
    "ax = sns.countplot(x='Age_group',hue = 'Product Name',data=new_df)\n",
    "plt.xticks(rotation=45)\n",
    "plt.show()\n"
   ]
  },
  {
   "cell_type": "markdown",
   "metadata": {},
   "source": [
    "1. Yet again \"Product\" Retiement account is the most popular among all the age groups who have invested in policies available.\n",
    "2. Corporate Membership is the least invested product among all others available.\n",
    "3. The trend of investig is approximately similar in the age group 25-50 and 75-100 thus peak age for such investments is 50-75\n",
    "   which is also concluded in many charts above."
   ]
  },
  {
   "cell_type": "code",
   "execution_count": 64,
   "metadata": {},
   "outputs": [
    {
     "data": {
      "image/png": "[encoded data removed]",
      "text/plain": [
       "<Figure size 720x720 with 1 Axes>"
      ]
     },
     "metadata": {
      "needs_background": "light"
     },
     "output_type": "display_data"
    }
   ],
   "source": [
    "plt.figure(figsize=[10,10])\n",
    "ax = sns.countplot(x='Age_group',hue = 'Product Category',data=new_df)\n",
    "plt.xticks(rotation=45)\n",
    "plt.show()\n"
   ]
  },
  {
   "cell_type": "code",
   "execution_count": 65,
   "metadata": {},
   "outputs": [
    {
     "data": {
      "image/png": "[encoded data removed]",
      "text/plain": [
       "<Figure size 720x720 with 1 Axes>"
      ]
     },
     "metadata": {
      "needs_background": "light"
     },
     "output_type": "display_data"
    }
   ],
   "source": [
    "plt.figure(figsize=[10,10])\n",
    "ax = sns.countplot(x='Gender',hue = 'Product Name',data=new_df)\n",
    "plt.xticks(rotation=45)\n",
    "plt.show()"
   ]
  },
  {
   "cell_type": "code",
   "execution_count": 66,
   "metadata": {},
   "outputs": [
    {
     "data": {
      "image/png": "[encoded data removed]",
      "text/plain": [
       "<Figure size 720x720 with 1 Axes>"
      ]
     },
     "metadata": {
      "needs_background": "light"
     },
     "output_type": "display_data"
    }
   ],
   "source": [
    "plt.figure(figsize=[10,10])\n",
    "ax = sns.countplot(x='Gender',hue = 'Product Category',data=new_df)\n",
    "plt.xticks(rotation=45)\n",
    "plt.show()"
   ]
  },
  {
   "cell_type": "markdown",
   "metadata": {},
   "source": [
    "1. Above chart describes pattern of investing into any product is not Gender Biased.\n"
   ]
  },
  {
   "cell_type": "code",
   "execution_count": 67,
   "metadata": {},
   "outputs": [
    {
     "data": {
      "text/html": [
       "<div>\n",
       "<style scoped>\n",
       "    .dataframe tbody tr th:only-of-type {\n",
       "        vertical-align: middle;\n",
       "    }\n",
       "\n",
       "    .dataframe tbody tr th {\n",
       "        vertical-align: top;\n",
       "    }\n",
       "\n",
       "    .dataframe thead th {\n",
       "        text-align: right;\n",
       "    }\n",
       "</style>\n",
       "<table border=\"1\" class=\"dataframe\">\n",
       "  <thead>\n",
       "    <tr style=\"text-align: right;\">\n",
       "      <th></th>\n",
       "      <th>index_x</th>\n",
       "      <th>Customer ID</th>\n",
       "      <th>Email</th>\n",
       "      <th>Gender</th>\n",
       "      <th>Age</th>\n",
       "      <th>Postcode</th>\n",
       "      <th>is_valid_email</th>\n",
       "      <th>Age_group</th>\n",
       "      <th>index_y</th>\n",
       "      <th>Policy Number</th>\n",
       "      <th>Product Category</th>\n",
       "      <th>Product Name</th>\n",
       "      <th>Policy Value</th>\n",
       "      <th>Policy Start Date</th>\n",
       "    </tr>\n",
       "  </thead>\n",
       "  <tbody>\n",
       "    <tr>\n",
       "      <th>0</th>\n",
       "      <td>0</td>\n",
       "      <td>CO183683</td>\n",
       "      <td>NLUPPITT14@PARALLELS.COM</td>\n",
       "      <td>Male</td>\n",
       "      <td>90</td>\n",
       "      <td>None</td>\n",
       "      <td>True</td>\n",
       "      <td>75-100</td>\n",
       "      <td>661</td>\n",
       "      <td>RET100041</td>\n",
       "      <td>RETIREMENT</td>\n",
       "      <td>RETIREMENT ACCOUNT</td>\n",
       "      <td>744154.0</td>\n",
       "      <td>2017-12-27 00:00:00</td>\n",
       "    </tr>\n",
       "    <tr>\n",
       "      <th>1</th>\n",
       "      <td>1</td>\n",
       "      <td>CO314757</td>\n",
       "      <td>Empty</td>\n",
       "      <td>Female</td>\n",
       "      <td>90</td>\n",
       "      <td>None</td>\n",
       "      <td>False</td>\n",
       "      <td>75-100</td>\n",
       "      <td>563</td>\n",
       "      <td>RET100125</td>\n",
       "      <td>RETIREMENT</td>\n",
       "      <td>RETIREMENT ACCOUNT</td>\n",
       "      <td>192389.0</td>\n",
       "      <td>2017-09-16 00:00:00</td>\n",
       "    </tr>\n",
       "    <tr>\n",
       "      <th>2</th>\n",
       "      <td>1</td>\n",
       "      <td>CO314757</td>\n",
       "      <td>Empty</td>\n",
       "      <td>Female</td>\n",
       "      <td>90</td>\n",
       "      <td>None</td>\n",
       "      <td>False</td>\n",
       "      <td>75-100</td>\n",
       "      <td>1562</td>\n",
       "      <td>ANN3661</td>\n",
       "      <td>ANNUITY</td>\n",
       "      <td>STANDARD ANNUITY</td>\n",
       "      <td>NaN</td>\n",
       "      <td>2013-05-21 00:00:00</td>\n",
       "    </tr>\n",
       "    <tr>\n",
       "      <th>3</th>\n",
       "      <td>2</td>\n",
       "      <td>CO720602</td>\n",
       "      <td>Empty</td>\n",
       "      <td>Female</td>\n",
       "      <td>90</td>\n",
       "      <td>None</td>\n",
       "      <td>False</td>\n",
       "      <td>75-100</td>\n",
       "      <td>875</td>\n",
       "      <td>RET100188</td>\n",
       "      <td>RETIREMENT</td>\n",
       "      <td>RETIREMENT ACCOUNT</td>\n",
       "      <td>904394.0</td>\n",
       "      <td>2018-08-11 00:00:00</td>\n",
       "    </tr>\n",
       "    <tr>\n",
       "      <th>4</th>\n",
       "      <td>3</td>\n",
       "      <td>CO34804</td>\n",
       "      <td>Empty</td>\n",
       "      <td>Female</td>\n",
       "      <td>90</td>\n",
       "      <td>1495-701</td>\n",
       "      <td>False</td>\n",
       "      <td>75-100</td>\n",
       "      <td>518</td>\n",
       "      <td>RET100566</td>\n",
       "      <td>RETIREMENT</td>\n",
       "      <td>RETIREMENT ACCOUNT</td>\n",
       "      <td>805735.0</td>\n",
       "      <td>2017-07-17 00:00:00</td>\n",
       "    </tr>\n",
       "  </tbody>\n",
       "</table>\n",
       "</div>"
      ],
      "text/plain": [
       "   index_x Customer ID                     Email  Gender  Age  Postcode  \\\n",
       "0        0    CO183683  NLUPPITT14@PARALLELS.COM    Male   90      None   \n",
       "1        1    CO314757                     Empty  Female   90      None   \n",
       "2        1    CO314757                     Empty  Female   90      None   \n",
       "3        2    CO720602                     Empty  Female   90      None   \n",
       "4        3     CO34804                     Empty  Female   90  1495-701   \n",
       "\n",
       "   is_valid_email Age_group  index_y Policy Number Product Category  \\\n",
       "0            True    75-100      661     RET100041       RETIREMENT   \n",
       "1           False    75-100      563     RET100125       RETIREMENT   \n",
       "2           False    75-100     1562       ANN3661          ANNUITY   \n",
       "3           False    75-100      875     RET100188       RETIREMENT   \n",
       "4           False    75-100      518     RET100566       RETIREMENT   \n",
       "\n",
       "         Product Name  Policy Value    Policy Start Date  \n",
       "0  RETIREMENT ACCOUNT      744154.0  2017-12-27 00:00:00  \n",
       "1  RETIREMENT ACCOUNT      192389.0  2017-09-16 00:00:00  \n",
       "2    STANDARD ANNUITY           NaN  2013-05-21 00:00:00  \n",
       "3  RETIREMENT ACCOUNT      904394.0  2018-08-11 00:00:00  \n",
       "4  RETIREMENT ACCOUNT      805735.0  2017-07-17 00:00:00  "
      ]
     },
     "execution_count": 67,
     "metadata": {},
     "output_type": "execute_result"
    }
   ],
   "source": [
    "new_df.head()"
   ]
  },
  {
   "cell_type": "code",
   "execution_count": 68,
   "metadata": {},
   "outputs": [],
   "source": [
    "## Visualization for the question asked : Policy value vs Customer demographics."
   ]
  },
  {
   "cell_type": "code",
   "execution_count": 69,
   "metadata": {},
   "outputs": [
    {
     "data": {
      "text/plain": [
       "0"
      ]
     },
     "execution_count": 69,
     "metadata": {},
     "output_type": "execute_result"
    }
   ],
   "source": [
    "new_df['Policy Value'].value_counts().isnull().sum()"
   ]
  },
  {
   "cell_type": "code",
   "execution_count": 70,
   "metadata": {},
   "outputs": [
    {
     "data": {
      "text/plain": [
       "count      1513.000000\n",
       "mean     335213.494382\n",
       "std      335932.523853\n",
       "min           4.000000\n",
       "25%        7622.000000\n",
       "50%      243996.000000\n",
       "75%      620195.000000\n",
       "max      999674.000000\n",
       "Name: Policy Value, dtype: float64"
      ]
     },
     "execution_count": 70,
     "metadata": {},
     "output_type": "execute_result"
    }
   ],
   "source": [
    "new_df['Policy Value'].describe()"
   ]
  },
  {
   "cell_type": "code",
   "execution_count": 71,
   "metadata": {},
   "outputs": [
    {
     "data": {
      "text/html": [
       "<div>\n",
       "<style scoped>\n",
       "    .dataframe tbody tr th:only-of-type {\n",
       "        vertical-align: middle;\n",
       "    }\n",
       "\n",
       "    .dataframe tbody tr th {\n",
       "        vertical-align: top;\n",
       "    }\n",
       "\n",
       "    .dataframe thead th {\n",
       "        text-align: right;\n",
       "    }\n",
       "</style>\n",
       "<table border=\"1\" class=\"dataframe\">\n",
       "  <thead>\n",
       "    <tr style=\"text-align: right;\">\n",
       "      <th></th>\n",
       "      <th>index_x</th>\n",
       "      <th>Customer ID</th>\n",
       "      <th>Email</th>\n",
       "      <th>Gender</th>\n",
       "      <th>Age</th>\n",
       "      <th>Postcode</th>\n",
       "      <th>is_valid_email</th>\n",
       "      <th>Age_group</th>\n",
       "      <th>index_y</th>\n",
       "      <th>Policy Number</th>\n",
       "      <th>Product Category</th>\n",
       "      <th>Product Name</th>\n",
       "      <th>Policy Value</th>\n",
       "      <th>Policy Start Date</th>\n",
       "      <th>quantile_policy</th>\n",
       "    </tr>\n",
       "  </thead>\n",
       "  <tbody>\n",
       "    <tr>\n",
       "      <th>0</th>\n",
       "      <td>0</td>\n",
       "      <td>CO183683</td>\n",
       "      <td>NLUPPITT14@PARALLELS.COM</td>\n",
       "      <td>Male</td>\n",
       "      <td>90</td>\n",
       "      <td>None</td>\n",
       "      <td>True</td>\n",
       "      <td>75-100</td>\n",
       "      <td>661</td>\n",
       "      <td>RET100041</td>\n",
       "      <td>RETIREMENT</td>\n",
       "      <td>RETIREMENT ACCOUNT</td>\n",
       "      <td>744154.0</td>\n",
       "      <td>2017-12-27 00:00:00</td>\n",
       "      <td>(509182.0, 758597.0]</td>\n",
       "    </tr>\n",
       "    <tr>\n",
       "      <th>1</th>\n",
       "      <td>1</td>\n",
       "      <td>CO314757</td>\n",
       "      <td>Empty</td>\n",
       "      <td>Female</td>\n",
       "      <td>90</td>\n",
       "      <td>None</td>\n",
       "      <td>False</td>\n",
       "      <td>75-100</td>\n",
       "      <td>563</td>\n",
       "      <td>RET100125</td>\n",
       "      <td>RETIREMENT</td>\n",
       "      <td>RETIREMENT ACCOUNT</td>\n",
       "      <td>192389.0</td>\n",
       "      <td>2017-09-16 00:00:00</td>\n",
       "      <td>(9620.0, 243996.0]</td>\n",
       "    </tr>\n",
       "    <tr>\n",
       "      <th>2</th>\n",
       "      <td>1</td>\n",
       "      <td>CO314757</td>\n",
       "      <td>Empty</td>\n",
       "      <td>Female</td>\n",
       "      <td>90</td>\n",
       "      <td>None</td>\n",
       "      <td>False</td>\n",
       "      <td>75-100</td>\n",
       "      <td>1562</td>\n",
       "      <td>ANN3661</td>\n",
       "      <td>ANNUITY</td>\n",
       "      <td>STANDARD ANNUITY</td>\n",
       "      <td>NaN</td>\n",
       "      <td>2013-05-21 00:00:00</td>\n",
       "      <td>NaN</td>\n",
       "    </tr>\n",
       "    <tr>\n",
       "      <th>3</th>\n",
       "      <td>2</td>\n",
       "      <td>CO720602</td>\n",
       "      <td>Empty</td>\n",
       "      <td>Female</td>\n",
       "      <td>90</td>\n",
       "      <td>None</td>\n",
       "      <td>False</td>\n",
       "      <td>75-100</td>\n",
       "      <td>875</td>\n",
       "      <td>RET100188</td>\n",
       "      <td>RETIREMENT</td>\n",
       "      <td>RETIREMENT ACCOUNT</td>\n",
       "      <td>904394.0</td>\n",
       "      <td>2018-08-11 00:00:00</td>\n",
       "      <td>(758597.0, 999674.0]</td>\n",
       "    </tr>\n",
       "    <tr>\n",
       "      <th>4</th>\n",
       "      <td>3</td>\n",
       "      <td>CO34804</td>\n",
       "      <td>Empty</td>\n",
       "      <td>Female</td>\n",
       "      <td>90</td>\n",
       "      <td>1495-701</td>\n",
       "      <td>False</td>\n",
       "      <td>75-100</td>\n",
       "      <td>518</td>\n",
       "      <td>RET100566</td>\n",
       "      <td>RETIREMENT</td>\n",
       "      <td>RETIREMENT ACCOUNT</td>\n",
       "      <td>805735.0</td>\n",
       "      <td>2017-07-17 00:00:00</td>\n",
       "      <td>(758597.0, 999674.0]</td>\n",
       "    </tr>\n",
       "  </tbody>\n",
       "</table>\n",
       "</div>"
      ],
      "text/plain": [
       "   index_x Customer ID                     Email  Gender  Age  Postcode  \\\n",
       "0        0    CO183683  NLUPPITT14@PARALLELS.COM    Male   90      None   \n",
       "1        1    CO314757                     Empty  Female   90      None   \n",
       "2        1    CO314757                     Empty  Female   90      None   \n",
       "3        2    CO720602                     Empty  Female   90      None   \n",
       "4        3     CO34804                     Empty  Female   90  1495-701   \n",
       "\n",
       "   is_valid_email Age_group  index_y Policy Number Product Category  \\\n",
       "0            True    75-100      661     RET100041       RETIREMENT   \n",
       "1           False    75-100      563     RET100125       RETIREMENT   \n",
       "2           False    75-100     1562       ANN3661          ANNUITY   \n",
       "3           False    75-100      875     RET100188       RETIREMENT   \n",
       "4           False    75-100      518     RET100566       RETIREMENT   \n",
       "\n",
       "         Product Name  Policy Value    Policy Start Date       quantile_policy  \n",
       "0  RETIREMENT ACCOUNT      744154.0  2017-12-27 00:00:00  (509182.0, 758597.0]  \n",
       "1  RETIREMENT ACCOUNT      192389.0  2017-09-16 00:00:00    (9620.0, 243996.0]  \n",
       "2    STANDARD ANNUITY           NaN  2013-05-21 00:00:00                   NaN  \n",
       "3  RETIREMENT ACCOUNT      904394.0  2018-08-11 00:00:00  (758597.0, 999674.0]  \n",
       "4  RETIREMENT ACCOUNT      805735.0  2017-07-17 00:00:00  (758597.0, 999674.0]  "
      ]
     },
     "execution_count": 71,
     "metadata": {},
     "output_type": "execute_result"
    }
   ],
   "source": [
    "new_df['quantile_policy'] = pd.qcut(new_df['Policy Value'], q=6,precision = 0)\n",
    "new_df.head()\n",
    "                         "
   ]
  },
  {
   "cell_type": "code",
   "execution_count": 72,
   "metadata": {},
   "outputs": [
    {
     "data": {
      "text/plain": [
       "(3.0, 5035.0]           253\n",
       "(758597.0, 999674.0]    252\n",
       "(509182.0, 758597.0]    252\n",
       "(243996.0, 509182.0]    252\n",
       "(9620.0, 243996.0]      252\n",
       "(5035.0, 9620.0]        252\n",
       "Name: quantile_policy, dtype: int64"
      ]
     },
     "execution_count": 72,
     "metadata": {},
     "output_type": "execute_result"
    }
   ],
   "source": [
    "new_df['quantile_policy'].value_counts()"
   ]
  },
  {
   "cell_type": "code",
   "execution_count": 73,
   "metadata": {},
   "outputs": [
    {
     "data": {
      "image/png": "[encoded data removed]",
      "text/plain": [
       "<Figure size 432x288 with 1 Axes>"
      ]
     },
     "metadata": {
      "needs_background": "light"
     },
     "output_type": "display_data"
    }
   ],
   "source": [
    "sns.barplot(data=new_df,x='quantile_policy',y='Policy Value',estimator=np.mean)\n",
    "plt.xticks(rotation=45)\n",
    "plt.show()"
   ]
  },
  {
   "cell_type": "markdown",
   "metadata": {},
   "source": [
    "1. Majority of Policy values lie in the range of (758597.0, 999674.0]."
   ]
  },
  {
   "cell_type": "code",
   "execution_count": 74,
   "metadata": {},
   "outputs": [
    {
     "data": {
      "image/png": "[encoded data removed]",
      "text/plain": [
       "<Figure size 576x576 with 1 Axes>"
      ]
     },
     "metadata": {
      "needs_background": "light"
     },
     "output_type": "display_data"
    }
   ],
   "source": [
    "plt.figure(figsize=[8,8])\n",
    "ax = sns.countplot(x='Gender',hue = 'quantile_policy',data=new_df)\n",
    "plt.xticks(rotation=45)\n",
    "plt.legend(loc='lower left')\n",
    "plt.show()"
   ]
  },
  {
   "cell_type": "markdown",
   "metadata": {},
   "source": [
    "1. From the above graph Female have invested in the range (758597.0, 999674.0] which is the expensive range of investment\n",
    "2. Most of the Males have invested in policies in the range (243996.0, 509182.0]  which is below mediocre range of investment.\n",
    "3. More number of Females have invested in the least expensive policy ranging from (3.0-5035.0]\n",
    "4. More Females have invested in the extremes(Low and High) ranges of investment when compared to Males."
   ]
  },
  {
   "cell_type": "code",
   "execution_count": 75,
   "metadata": {},
   "outputs": [
    {
     "data": {
      "image/png": "[encoded data removed]",
      "text/plain": [
       "<Figure size 720x720 with 1 Axes>"
      ]
     },
     "metadata": {
      "needs_background": "light"
     },
     "output_type": "display_data"
    }
   ],
   "source": [
    "plt.figure(figsize=[10,10])\n",
    "ax = sns.countplot(x='Age_group',hue = 'quantile_policy',data=new_df)\n",
    "plt.xticks(rotation=45)\n",
    "plt.show()"
   ]
  },
  {
   "cell_type": "code",
   "execution_count": 76,
   "metadata": {},
   "outputs": [],
   "source": [
    "df2 = new_df.groupby('Product Category')['Policy Value'].mean()\n"
   ]
  },
  {
   "cell_type": "code",
   "execution_count": 77,
   "metadata": {},
   "outputs": [
    {
     "data": {
      "text/plain": [
       "Product Category\n",
       "ANNUITY                 NaN\n",
       "BOND            4872.367089\n",
       "ISA             5559.708108\n",
       "PENSION         5378.023392\n",
       "RETIREMENT    504964.959960\n",
       "Name: Policy Value, dtype: float64"
      ]
     },
     "execution_count": 77,
     "metadata": {},
     "output_type": "execute_result"
    }
   ],
   "source": [
    "df2.head()"
   ]
  },
  {
   "cell_type": "code",
   "execution_count": 78,
   "metadata": {},
   "outputs": [],
   "source": [
    "df3 = pd.DataFrame(df2)"
   ]
  },
  {
   "cell_type": "code",
   "execution_count": 79,
   "metadata": {},
   "outputs": [
    {
     "data": {
      "text/html": [
       "<div>\n",
       "<style scoped>\n",
       "    .dataframe tbody tr th:only-of-type {\n",
       "        vertical-align: middle;\n",
       "    }\n",
       "\n",
       "    .dataframe tbody tr th {\n",
       "        vertical-align: top;\n",
       "    }\n",
       "\n",
       "    .dataframe thead th {\n",
       "        text-align: right;\n",
       "    }\n",
       "</style>\n",
       "<table border=\"1\" class=\"dataframe\">\n",
       "  <thead>\n",
       "    <tr style=\"text-align: right;\">\n",
       "      <th></th>\n",
       "      <th>Policy Value</th>\n",
       "    </tr>\n",
       "    <tr>\n",
       "      <th>Product Category</th>\n",
       "      <th></th>\n",
       "    </tr>\n",
       "  </thead>\n",
       "  <tbody>\n",
       "    <tr>\n",
       "      <th>ANNUITY</th>\n",
       "      <td>NaN</td>\n",
       "    </tr>\n",
       "    <tr>\n",
       "      <th>BOND</th>\n",
       "      <td>4872.367089</td>\n",
       "    </tr>\n",
       "    <tr>\n",
       "      <th>ISA</th>\n",
       "      <td>5559.708108</td>\n",
       "    </tr>\n",
       "    <tr>\n",
       "      <th>PENSION</th>\n",
       "      <td>5378.023392</td>\n",
       "    </tr>\n",
       "    <tr>\n",
       "      <th>RETIREMENT</th>\n",
       "      <td>504964.959960</td>\n",
       "    </tr>\n",
       "  </tbody>\n",
       "</table>\n",
       "</div>"
      ],
      "text/plain": [
       "                   Policy Value\n",
       "Product Category               \n",
       "ANNUITY                     NaN\n",
       "BOND                4872.367089\n",
       "ISA                 5559.708108\n",
       "PENSION             5378.023392\n",
       "RETIREMENT        504964.959960"
      ]
     },
     "execution_count": 79,
     "metadata": {},
     "output_type": "execute_result"
    }
   ],
   "source": [
    "df3"
   ]
  },
  {
   "cell_type": "code",
   "execution_count": null,
   "metadata": {},
   "outputs": [],
   "source": []
  }
 ],
 "metadata": {
  "celltoolbar": "Raw Cell Format",
  "kernelspec": {
   "display_name": "Python 3",
   "language": "python",
   "name": "python3"
  },
  "language_info": {
   "codemirror_mode": {
    "name": "ipython",
    "version": 3
   },
   "file_extension": ".py",
   "mimetype": "text/x-python",
   "name": "python",
   "nbconvert_exporter": "python",
   "pygments_lexer": "ipython3",
   "version": "3.7.6"
  },
  "toc": {
   "colors": {
    "hover_highlight": "#DAA520",
    "running_highlight": "#FF0000",
    "selected_highlight": "#FFD700"
   },
   "moveMenuLeft": true,
   "nav_menu": {},
   "navigate_menu": true,
   "number_sections": true,
   "sideBar": true,
   "skip_h1_title": false,
   "threshold": 4,
   "toc_cell": false,
   "toc_position": {
    "height": "977px",
    "left": "0px",
    "right": "1457.01px",
    "top": "107px",
    "width": "214px"
   },
   "toc_section_display": "block",
   "toc_window_display": true
  }
 },
 "nbformat": 4,
 "nbformat_minor": 1
}
